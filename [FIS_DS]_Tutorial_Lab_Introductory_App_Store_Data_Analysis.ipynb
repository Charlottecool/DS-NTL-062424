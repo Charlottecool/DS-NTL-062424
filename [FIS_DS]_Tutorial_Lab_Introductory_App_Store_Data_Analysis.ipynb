{
  "nbformat": 4,
  "nbformat_minor": 0,
  "metadata": {
    "colab": {
      "provenance": [],
      "include_colab_link": true
    },
    "kernelspec": {
      "name": "python3",
      "display_name": "Python 3"
    },
    "language_info": {
      "name": "python"
    }
  },
  "cells": [
    {
      "cell_type": "markdown",
      "metadata": {
        "id": "view-in-github",
        "colab_type": "text"
      },
      "source": [
        "<a href=\"https://colab.research.google.com/github/Charlottecool/DS-NTL-062424/blob/main/%5BFIS_DS%5D_Tutorial_Lab_Introductory_App_Store_Data_Analysis.ipynb\" target=\"_parent\"><img src=\"https://colab.research.google.com/assets/colab-badge.svg\" alt=\"Open In Colab\"/></a>"
      ]
    },
    {
      "cell_type": "markdown",
      "metadata": {
        "id": "wBnAVInWP4jg"
      },
      "source": [
        "---\n",
        "---\n",
        "---"
      ]
    },
    {
      "cell_type": "markdown",
      "source": [
        "# ✨ **CHALLENGE**: Introductory Data Analysis with App Store Data ✨\n",
        "\n",
        "In this challenge, you'll put your basic descriptive data analysis skills to the test by performing some basic data exploration and evaluation of an unfamiliar dataset before answer a multitude of predetermined and conditional descriptive questions.\n",
        "\n",
        "By the end of this notebook, you should feel much more comfortable with your analysis and exploration skill set, even when limited to just leveraging `numpy` and `pandas`."
      ],
      "metadata": {
        "id": "7piNVX5eBvMW"
      }
    },
    {
      "cell_type": "markdown",
      "source": [
        "---\n",
        "---"
      ],
      "metadata": {
        "id": "JGoILSx0CFil"
      }
    },
    {
      "cell_type": "markdown",
      "source": [
        "## 💠 **PART ONE**: Importations and Initializations 💠"
      ],
      "metadata": {
        "id": "02B0P767CGz_"
      }
    },
    {
      "cell_type": "markdown",
      "source": [
        "Every time we do anything in the realm of data science, we should consider designing our development process to most effectively reflect an engineering pipeline that makes sense.\n",
        "\n",
        "Generally, it can be useful to identify all major dependencies and libraries up front so we don't have to worry about outstanding external dependencies later on.\n",
        "\n",
        "As such, we'll start by importing relevant data structures, objects, and libraries needed to perform some exploratory data analyses - namely `numpy` and `pandas`."
      ],
      "metadata": {
        "id": "86BFSgsuCMIM"
      }
    },
    {
      "cell_type": "code",
      "metadata": {
        "id": "hTDj7-MAPuMk"
      },
      "source": [
        "import numpy as np    # Numerical Python Operations\n",
        "import pandas as pd   # DataFrame Operations"
      ],
      "execution_count": 1,
      "outputs": []
    },
    {
      "cell_type": "markdown",
      "source": [
        "---\n",
        "\n",
        "### 📌 **REQUIRED CHALLENGE!** 📌\n",
        "\n",
        "> Take a moment to reflect on the full scale of libraries, packages, and dependencies available to you as a data analyst.\n",
        ">\n",
        "> **For this challenge, create a text cell below and write some thoughts on what other libraries and tools you'd like to use to augment your data analysis skills, given what you already know.**\n",
        ">\n",
        "> Feel free to be creative with this question; you do not have to reference only the specific libraries that we've covered in class.\n",
        "\n",
        "---"
      ],
      "metadata": {
        "id": "dI-PnEF7fdni"
      }
    },
    {
      "cell_type": "markdown",
      "source": [
        "We're now ready to get access to our dataset: the **App Store** data!"
      ],
      "metadata": {
        "id": "KU1CWDxmgAYj"
      }
    },
    {
      "cell_type": "code",
      "metadata": {
        "id": "xHYLVgJDP0cG"
      },
      "source": [
        "# Create and set absolute dataset path\n",
        "PATH_DATASET = \"AppleStore.csv\"\n",
        "\n",
        "# Save dataset as Pandas DataFrame\n",
        "dataset = pd.read_csv(PATH_DATASET)"
      ],
      "execution_count": 18,
      "outputs": []
    },
    {
      "cell_type": "code",
      "source": [
        "dataset.head(1)"
      ],
      "metadata": {
        "colab": {
          "base_uri": "https://localhost:8080/",
          "height": 135
        },
        "id": "5BXwVOpXnuIA",
        "outputId": "418456a0-a332-4722-9b30-11072d02e78d"
      },
      "execution_count": 4,
      "outputs": [
        {
          "output_type": "execute_result",
          "data": {
            "text/plain": [
              "   Unnamed: 0         id       track_name  size_bytes currency  price  \\\n",
              "0           1  281656475  PAC-MAN Premium   100788224      USD   3.99   \n",
              "\n",
              "   rating_count_tot  rating_count_ver  user_rating  user_rating_ver    ver  \\\n",
              "0             21292                26          4.0              4.5  6.3.5   \n",
              "\n",
              "  cont_rating prime_genre  sup_devices.num  ipadSc_urls.num  lang.num  vpp_lic  \n",
              "0          4+       Games               38                5        10        1  "
            ],
            "text/html": [
              "\n",
              "  <div id=\"df-8c39fdba-0243-47c7-ba1c-61c26a6b1df6\" class=\"colab-df-container\">\n",
              "    <div>\n",
              "<style scoped>\n",
              "    .dataframe tbody tr th:only-of-type {\n",
              "        vertical-align: middle;\n",
              "    }\n",
              "\n",
              "    .dataframe tbody tr th {\n",
              "        vertical-align: top;\n",
              "    }\n",
              "\n",
              "    .dataframe thead th {\n",
              "        text-align: right;\n",
              "    }\n",
              "</style>\n",
              "<table border=\"1\" class=\"dataframe\">\n",
              "  <thead>\n",
              "    <tr style=\"text-align: right;\">\n",
              "      <th></th>\n",
              "      <th>Unnamed: 0</th>\n",
              "      <th>id</th>\n",
              "      <th>track_name</th>\n",
              "      <th>size_bytes</th>\n",
              "      <th>currency</th>\n",
              "      <th>price</th>\n",
              "      <th>rating_count_tot</th>\n",
              "      <th>rating_count_ver</th>\n",
              "      <th>user_rating</th>\n",
              "      <th>user_rating_ver</th>\n",
              "      <th>ver</th>\n",
              "      <th>cont_rating</th>\n",
              "      <th>prime_genre</th>\n",
              "      <th>sup_devices.num</th>\n",
              "      <th>ipadSc_urls.num</th>\n",
              "      <th>lang.num</th>\n",
              "      <th>vpp_lic</th>\n",
              "    </tr>\n",
              "  </thead>\n",
              "  <tbody>\n",
              "    <tr>\n",
              "      <th>0</th>\n",
              "      <td>1</td>\n",
              "      <td>281656475</td>\n",
              "      <td>PAC-MAN Premium</td>\n",
              "      <td>100788224</td>\n",
              "      <td>USD</td>\n",
              "      <td>3.99</td>\n",
              "      <td>21292</td>\n",
              "      <td>26</td>\n",
              "      <td>4.0</td>\n",
              "      <td>4.5</td>\n",
              "      <td>6.3.5</td>\n",
              "      <td>4+</td>\n",
              "      <td>Games</td>\n",
              "      <td>38</td>\n",
              "      <td>5</td>\n",
              "      <td>10</td>\n",
              "      <td>1</td>\n",
              "    </tr>\n",
              "  </tbody>\n",
              "</table>\n",
              "</div>\n",
              "    <div class=\"colab-df-buttons\">\n",
              "\n",
              "  <div class=\"colab-df-container\">\n",
              "    <button class=\"colab-df-convert\" onclick=\"convertToInteractive('df-8c39fdba-0243-47c7-ba1c-61c26a6b1df6')\"\n",
              "            title=\"Convert this dataframe to an interactive table.\"\n",
              "            style=\"display:none;\">\n",
              "\n",
              "  <svg xmlns=\"http://www.w3.org/2000/svg\" height=\"24px\" viewBox=\"0 -960 960 960\">\n",
              "    <path d=\"M120-120v-720h720v720H120Zm60-500h600v-160H180v160Zm220 220h160v-160H400v160Zm0 220h160v-160H400v160ZM180-400h160v-160H180v160Zm440 0h160v-160H620v160ZM180-180h160v-160H180v160Zm440 0h160v-160H620v160Z\"/>\n",
              "  </svg>\n",
              "    </button>\n",
              "\n",
              "  <style>\n",
              "    .colab-df-container {\n",
              "      display:flex;\n",
              "      gap: 12px;\n",
              "    }\n",
              "\n",
              "    .colab-df-convert {\n",
              "      background-color: #E8F0FE;\n",
              "      border: none;\n",
              "      border-radius: 50%;\n",
              "      cursor: pointer;\n",
              "      display: none;\n",
              "      fill: #1967D2;\n",
              "      height: 32px;\n",
              "      padding: 0 0 0 0;\n",
              "      width: 32px;\n",
              "    }\n",
              "\n",
              "    .colab-df-convert:hover {\n",
              "      background-color: #E2EBFA;\n",
              "      box-shadow: 0px 1px 2px rgba(60, 64, 67, 0.3), 0px 1px 3px 1px rgba(60, 64, 67, 0.15);\n",
              "      fill: #174EA6;\n",
              "    }\n",
              "\n",
              "    .colab-df-buttons div {\n",
              "      margin-bottom: 4px;\n",
              "    }\n",
              "\n",
              "    [theme=dark] .colab-df-convert {\n",
              "      background-color: #3B4455;\n",
              "      fill: #D2E3FC;\n",
              "    }\n",
              "\n",
              "    [theme=dark] .colab-df-convert:hover {\n",
              "      background-color: #434B5C;\n",
              "      box-shadow: 0px 1px 3px 1px rgba(0, 0, 0, 0.15);\n",
              "      filter: drop-shadow(0px 1px 2px rgba(0, 0, 0, 0.3));\n",
              "      fill: #FFFFFF;\n",
              "    }\n",
              "  </style>\n",
              "\n",
              "    <script>\n",
              "      const buttonEl =\n",
              "        document.querySelector('#df-8c39fdba-0243-47c7-ba1c-61c26a6b1df6 button.colab-df-convert');\n",
              "      buttonEl.style.display =\n",
              "        google.colab.kernel.accessAllowed ? 'block' : 'none';\n",
              "\n",
              "      async function convertToInteractive(key) {\n",
              "        const element = document.querySelector('#df-8c39fdba-0243-47c7-ba1c-61c26a6b1df6');\n",
              "        const dataTable =\n",
              "          await google.colab.kernel.invokeFunction('convertToInteractive',\n",
              "                                                    [key], {});\n",
              "        if (!dataTable) return;\n",
              "\n",
              "        const docLinkHtml = 'Like what you see? Visit the ' +\n",
              "          '<a target=\"_blank\" href=https://colab.research.google.com/notebooks/data_table.ipynb>data table notebook</a>'\n",
              "          + ' to learn more about interactive tables.';\n",
              "        element.innerHTML = '';\n",
              "        dataTable['output_type'] = 'display_data';\n",
              "        await google.colab.output.renderOutput(dataTable, element);\n",
              "        const docLink = document.createElement('div');\n",
              "        docLink.innerHTML = docLinkHtml;\n",
              "        element.appendChild(docLink);\n",
              "      }\n",
              "    </script>\n",
              "  </div>\n",
              "\n",
              "\n",
              "    </div>\n",
              "  </div>\n"
            ],
            "application/vnd.google.colaboratory.intrinsic+json": {
              "type": "dataframe",
              "variable_name": "dataset",
              "summary": "{\n  \"name\": \"dataset\",\n  \"rows\": 7197,\n  \"fields\": [\n    {\n      \"column\": \"Unnamed: 0\",\n      \"properties\": {\n        \"dtype\": \"number\",\n        \"std\": 3093,\n        \"min\": 1,\n        \"max\": 11097,\n        \"num_unique_values\": 7197,\n        \"samples\": [\n          4374,\n          2538,\n          2045\n        ],\n        \"semantic_type\": \"\",\n        \"description\": \"\"\n      }\n    },\n    {\n      \"column\": \"id\",\n      \"properties\": {\n        \"dtype\": \"number\",\n        \"std\": 271236755,\n        \"min\": 281656475,\n        \"max\": 1188375727,\n        \"num_unique_values\": 7197,\n        \"samples\": [\n          977865620,\n          698925807,\n          594117733\n        ],\n        \"semantic_type\": \"\",\n        \"description\": \"\"\n      }\n    },\n    {\n      \"column\": \"track_name\",\n      \"properties\": {\n        \"dtype\": \"string\",\n        \"num_unique_values\": 7195,\n        \"samples\": [\n          \"\\u540c\\u82b1\\u987a\\u81f3\\u5c0a\\u7248\",\n          \"Ready Jet Go! Space Explorer\",\n          \"Gemini - A Journey of Two Stars\"\n        ],\n        \"semantic_type\": \"\",\n        \"description\": \"\"\n      }\n    },\n    {\n      \"column\": \"size_bytes\",\n      \"properties\": {\n        \"dtype\": \"number\",\n        \"std\": 359206913,\n        \"min\": 589824,\n        \"max\": 4025969664,\n        \"num_unique_values\": 7107,\n        \"samples\": [\n          600216576,\n          39232512,\n          444225536\n        ],\n        \"semantic_type\": \"\",\n        \"description\": \"\"\n      }\n    },\n    {\n      \"column\": \"currency\",\n      \"properties\": {\n        \"dtype\": \"category\",\n        \"num_unique_values\": 1,\n        \"samples\": [\n          \"USD\"\n        ],\n        \"semantic_type\": \"\",\n        \"description\": \"\"\n      }\n    },\n    {\n      \"column\": \"price\",\n      \"properties\": {\n        \"dtype\": \"number\",\n        \"std\": 5.833005786951915,\n        \"min\": 0.0,\n        \"max\": 299.99,\n        \"num_unique_values\": 36,\n        \"samples\": [\n          22.99\n        ],\n        \"semantic_type\": \"\",\n        \"description\": \"\"\n      }\n    },\n    {\n      \"column\": \"rating_count_tot\",\n      \"properties\": {\n        \"dtype\": \"number\",\n        \"std\": 75739,\n        \"min\": 0,\n        \"max\": 2974676,\n        \"num_unique_values\": 3185,\n        \"samples\": [\n          27711\n        ],\n        \"semantic_type\": \"\",\n        \"description\": \"\"\n      }\n    },\n    {\n      \"column\": \"rating_count_ver\",\n      \"properties\": {\n        \"dtype\": \"number\",\n        \"std\": 3920,\n        \"min\": 0,\n        \"max\": 177050,\n        \"num_unique_values\": 1138,\n        \"samples\": [\n          442\n        ],\n        \"semantic_type\": \"\",\n        \"description\": \"\"\n      }\n    },\n    {\n      \"column\": \"user_rating\",\n      \"properties\": {\n        \"dtype\": \"number\",\n        \"std\": 1.5179475936298852,\n        \"min\": 0.0,\n        \"max\": 5.0,\n        \"num_unique_values\": 10,\n        \"samples\": [\n          1.5\n        ],\n        \"semantic_type\": \"\",\n        \"description\": \"\"\n      }\n    },\n    {\n      \"column\": \"user_rating_ver\",\n      \"properties\": {\n        \"dtype\": \"number\",\n        \"std\": 1.809362823117773,\n        \"min\": 0.0,\n        \"max\": 5.0,\n        \"num_unique_values\": 10,\n        \"samples\": [\n          1.0\n        ],\n        \"semantic_type\": \"\",\n        \"description\": \"\"\n      }\n    },\n    {\n      \"column\": \"ver\",\n      \"properties\": {\n        \"dtype\": \"category\",\n        \"num_unique_values\": 1590,\n        \"samples\": [\n          \"7.8\"\n        ],\n        \"semantic_type\": \"\",\n        \"description\": \"\"\n      }\n    },\n    {\n      \"column\": \"cont_rating\",\n      \"properties\": {\n        \"dtype\": \"category\",\n        \"num_unique_values\": 4,\n        \"samples\": [\n          \"12+\"\n        ],\n        \"semantic_type\": \"\",\n        \"description\": \"\"\n      }\n    },\n    {\n      \"column\": \"prime_genre\",\n      \"properties\": {\n        \"dtype\": \"category\",\n        \"num_unique_values\": 23,\n        \"samples\": [\n          \"Navigation\"\n        ],\n        \"semantic_type\": \"\",\n        \"description\": \"\"\n      }\n    },\n    {\n      \"column\": \"sup_devices.num\",\n      \"properties\": {\n        \"dtype\": \"number\",\n        \"std\": 3,\n        \"min\": 9,\n        \"max\": 47,\n        \"num_unique_values\": 20,\n        \"samples\": [\n          38\n        ],\n        \"semantic_type\": \"\",\n        \"description\": \"\"\n      }\n    },\n    {\n      \"column\": \"ipadSc_urls.num\",\n      \"properties\": {\n        \"dtype\": \"number\",\n        \"std\": 1,\n        \"min\": 0,\n        \"max\": 5,\n        \"num_unique_values\": 6,\n        \"samples\": [\n          5\n        ],\n        \"semantic_type\": \"\",\n        \"description\": \"\"\n      }\n    },\n    {\n      \"column\": \"lang.num\",\n      \"properties\": {\n        \"dtype\": \"number\",\n        \"std\": 7,\n        \"min\": 0,\n        \"max\": 75,\n        \"num_unique_values\": 57,\n        \"samples\": [\n          10\n        ],\n        \"semantic_type\": \"\",\n        \"description\": \"\"\n      }\n    },\n    {\n      \"column\": \"vpp_lic\",\n      \"properties\": {\n        \"dtype\": \"number\",\n        \"std\": 0,\n        \"min\": 0,\n        \"max\": 1,\n        \"num_unique_values\": 2,\n        \"samples\": [\n          0\n        ],\n        \"semantic_type\": \"\",\n        \"description\": \"\"\n      }\n    }\n  ]\n}"
            }
          },
          "metadata": {},
          "execution_count": 4
        }
      ]
    },
    {
      "cell_type": "markdown",
      "source": [
        "Before we jump too deeply into an analysis, it's important to apply some creative thinking to help us better understand our data."
      ],
      "metadata": {
        "id": "wqiyNMS9l-OK"
      }
    },
    {
      "cell_type": "markdown",
      "source": [
        "---\n",
        "\n",
        "### 📌 **REQUIRED CHALLENGE!** 📌\n",
        "\n",
        "> If you recall, data dictionaries can help us exponentially in understanding how our data is shaped, what features/variables it comprises, and what sorts of questions we can ask.\n",
        ">\n",
        "> Many times, we can access data dictionaries as metadata, external objects, or other files associated with a data download.\n",
        ">\n",
        "> However, for this exercise, let's see if you can't intuit your way into interpret what each column most likely represents by creating your own data dictionary.\n",
        ">\n",
        "> **Your challenge is to fill in the following cell's data dictionary structure with interpretations for each of the dataset's features.**\n",
        ">\n",
        "> Apply logic and reasoning, and feel free to access any external reasoning to maintain confidence about what each column most likely means across the data.\n",
        ">\n",
        "> (**NOTE**: If you become stumped and want to check your answers, feel free to **[access the data source](https://www.kaggle.com/datasets/gauthamp10/apple-appstore-apps)** to verify your data dictionary assignments and ensure you have the appropriate information before moving forward.)\n",
        "\n",
        "---"
      ],
      "metadata": {
        "id": "wjiQ1CfjmdVk"
      }
    },
    {
      "cell_type": "markdown",
      "source": [
        "#### 🔎 **App Store Data Dictionary** 🔍\n",
        "\n",
        "- `Unnamed:0`: ???\n",
        "- `id`: ???\n",
        "- `track_name`: ???\n",
        "- `size_bytes`: ???\n",
        "- `currency`: ???\n",
        "- `price`: ???\n",
        "- `rating_count_tot`: ???\n",
        "- `rating_count_ver`: ???\n",
        "- `user_rating`: ???\n",
        "- `user_rating_ver`: ???\n",
        "- `ver`: ???\n",
        "- `cont_rating`: ???\n",
        "- `prime_genre`: ???\n",
        "- `sup_devices.num`: ???\n",
        "- `lang.num`: ???\n",
        "- `vpp_lic`: ???"
      ],
      "metadata": {
        "id": "CFcjs56qni0y"
      }
    },
    {
      "cell_type": "markdown",
      "source": [
        "Now that we have our toolkit and dataset, it's time to start exploring our data... the best way you know how. After all, you're the one exploring it!"
      ],
      "metadata": {
        "id": "FrvHnY6qf-8b"
      }
    },
    {
      "cell_type": "markdown",
      "source": [
        "---\n",
        "---"
      ],
      "metadata": {
        "id": "ypcFps7qrjAa"
      }
    },
    {
      "cell_type": "markdown",
      "source": [
        "## 💠 **PART TWO**: Basic Data Exploration 💠"
      ],
      "metadata": {
        "id": "weSufZ6uhw7t"
      }
    },
    {
      "cell_type": "markdown",
      "source": [
        "---\n",
        "\n",
        "### 📌 **REQUIRED CHALLENGE!** 📌\n",
        "\n",
        "> Data exploration is an incredibly important skill to hone and maintain, no matter the data!\n",
        ">\n",
        "> How else will you start developing the ability to ask interesting and relevant descriptive questions?\n",
        ">\n",
        "> **For this challenge, you will use as little or as many cells as you'd like to perform some basic data exploration and cleaning, ensuring that your data's integrity is as optimized as possible.**\n",
        ">\n",
        "> This could mean imputing null values, categorizing data, combining features, dropping noisy columns, etc.\n",
        ">\n",
        "> In other words, now's the time for creative decision-making - do whatever you think is best to ensure your data is as sanitary as it could be while ideating on some interesting questions to ask!\n",
        "\n",
        "---"
      ],
      "metadata": {
        "id": "xc5GQ4UfM_kt"
      }
    },
    {
      "cell_type": "code",
      "source": [
        "dataset.describe()"
      ],
      "metadata": {
        "id": "8gKnwdRugXW9",
        "outputId": "efa8395a-662c-46e7-fcf1-e38618d6e861",
        "colab": {
          "base_uri": "https://localhost:8080/",
          "height": 320
        }
      },
      "execution_count": 6,
      "outputs": [
        {
          "output_type": "execute_result",
          "data": {
            "text/plain": [
              "         Unnamed: 0            id    size_bytes        price  \\\n",
              "count   7197.000000  7.197000e+03  7.197000e+03  7197.000000   \n",
              "mean    4759.069612  8.631310e+08  1.991345e+08     1.726218   \n",
              "std     3093.625213  2.712368e+08  3.592069e+08     5.833006   \n",
              "min        1.000000  2.816565e+08  5.898240e+05     0.000000   \n",
              "25%     2090.000000  6.000937e+08  4.692275e+07     0.000000   \n",
              "50%     4380.000000  9.781482e+08  9.715302e+07     0.000000   \n",
              "75%     7223.000000  1.082310e+09  1.819249e+08     1.990000   \n",
              "max    11097.000000  1.188376e+09  4.025970e+09   299.990000   \n",
              "\n",
              "       rating_count_tot  rating_count_ver  user_rating  user_rating_ver  \\\n",
              "count      7.197000e+03       7197.000000  7197.000000      7197.000000   \n",
              "mean       1.289291e+04        460.373906     3.526956         3.253578   \n",
              "std        7.573941e+04       3920.455183     1.517948         1.809363   \n",
              "min        0.000000e+00          0.000000     0.000000         0.000000   \n",
              "25%        2.800000e+01          1.000000     3.500000         2.500000   \n",
              "50%        3.000000e+02         23.000000     4.000000         4.000000   \n",
              "75%        2.793000e+03        140.000000     4.500000         4.500000   \n",
              "max        2.974676e+06     177050.000000     5.000000         5.000000   \n",
              "\n",
              "       sup_devices.num  ipadSc_urls.num     lang.num      vpp_lic  \n",
              "count      7197.000000      7197.000000  7197.000000  7197.000000  \n",
              "mean         37.361817         3.707100     5.434903     0.993053  \n",
              "std           3.737715         1.986005     7.919593     0.083066  \n",
              "min           9.000000         0.000000     0.000000     0.000000  \n",
              "25%          37.000000         3.000000     1.000000     1.000000  \n",
              "50%          37.000000         5.000000     1.000000     1.000000  \n",
              "75%          38.000000         5.000000     8.000000     1.000000  \n",
              "max          47.000000         5.000000    75.000000     1.000000  "
            ],
            "text/html": [
              "\n",
              "  <div id=\"df-65a54ce2-d173-4fad-8584-e06cce877933\" class=\"colab-df-container\">\n",
              "    <div>\n",
              "<style scoped>\n",
              "    .dataframe tbody tr th:only-of-type {\n",
              "        vertical-align: middle;\n",
              "    }\n",
              "\n",
              "    .dataframe tbody tr th {\n",
              "        vertical-align: top;\n",
              "    }\n",
              "\n",
              "    .dataframe thead th {\n",
              "        text-align: right;\n",
              "    }\n",
              "</style>\n",
              "<table border=\"1\" class=\"dataframe\">\n",
              "  <thead>\n",
              "    <tr style=\"text-align: right;\">\n",
              "      <th></th>\n",
              "      <th>Unnamed: 0</th>\n",
              "      <th>id</th>\n",
              "      <th>size_bytes</th>\n",
              "      <th>price</th>\n",
              "      <th>rating_count_tot</th>\n",
              "      <th>rating_count_ver</th>\n",
              "      <th>user_rating</th>\n",
              "      <th>user_rating_ver</th>\n",
              "      <th>sup_devices.num</th>\n",
              "      <th>ipadSc_urls.num</th>\n",
              "      <th>lang.num</th>\n",
              "      <th>vpp_lic</th>\n",
              "    </tr>\n",
              "  </thead>\n",
              "  <tbody>\n",
              "    <tr>\n",
              "      <th>count</th>\n",
              "      <td>7197.000000</td>\n",
              "      <td>7.197000e+03</td>\n",
              "      <td>7.197000e+03</td>\n",
              "      <td>7197.000000</td>\n",
              "      <td>7.197000e+03</td>\n",
              "      <td>7197.000000</td>\n",
              "      <td>7197.000000</td>\n",
              "      <td>7197.000000</td>\n",
              "      <td>7197.000000</td>\n",
              "      <td>7197.000000</td>\n",
              "      <td>7197.000000</td>\n",
              "      <td>7197.000000</td>\n",
              "    </tr>\n",
              "    <tr>\n",
              "      <th>mean</th>\n",
              "      <td>4759.069612</td>\n",
              "      <td>8.631310e+08</td>\n",
              "      <td>1.991345e+08</td>\n",
              "      <td>1.726218</td>\n",
              "      <td>1.289291e+04</td>\n",
              "      <td>460.373906</td>\n",
              "      <td>3.526956</td>\n",
              "      <td>3.253578</td>\n",
              "      <td>37.361817</td>\n",
              "      <td>3.707100</td>\n",
              "      <td>5.434903</td>\n",
              "      <td>0.993053</td>\n",
              "    </tr>\n",
              "    <tr>\n",
              "      <th>std</th>\n",
              "      <td>3093.625213</td>\n",
              "      <td>2.712368e+08</td>\n",
              "      <td>3.592069e+08</td>\n",
              "      <td>5.833006</td>\n",
              "      <td>7.573941e+04</td>\n",
              "      <td>3920.455183</td>\n",
              "      <td>1.517948</td>\n",
              "      <td>1.809363</td>\n",
              "      <td>3.737715</td>\n",
              "      <td>1.986005</td>\n",
              "      <td>7.919593</td>\n",
              "      <td>0.083066</td>\n",
              "    </tr>\n",
              "    <tr>\n",
              "      <th>min</th>\n",
              "      <td>1.000000</td>\n",
              "      <td>2.816565e+08</td>\n",
              "      <td>5.898240e+05</td>\n",
              "      <td>0.000000</td>\n",
              "      <td>0.000000e+00</td>\n",
              "      <td>0.000000</td>\n",
              "      <td>0.000000</td>\n",
              "      <td>0.000000</td>\n",
              "      <td>9.000000</td>\n",
              "      <td>0.000000</td>\n",
              "      <td>0.000000</td>\n",
              "      <td>0.000000</td>\n",
              "    </tr>\n",
              "    <tr>\n",
              "      <th>25%</th>\n",
              "      <td>2090.000000</td>\n",
              "      <td>6.000937e+08</td>\n",
              "      <td>4.692275e+07</td>\n",
              "      <td>0.000000</td>\n",
              "      <td>2.800000e+01</td>\n",
              "      <td>1.000000</td>\n",
              "      <td>3.500000</td>\n",
              "      <td>2.500000</td>\n",
              "      <td>37.000000</td>\n",
              "      <td>3.000000</td>\n",
              "      <td>1.000000</td>\n",
              "      <td>1.000000</td>\n",
              "    </tr>\n",
              "    <tr>\n",
              "      <th>50%</th>\n",
              "      <td>4380.000000</td>\n",
              "      <td>9.781482e+08</td>\n",
              "      <td>9.715302e+07</td>\n",
              "      <td>0.000000</td>\n",
              "      <td>3.000000e+02</td>\n",
              "      <td>23.000000</td>\n",
              "      <td>4.000000</td>\n",
              "      <td>4.000000</td>\n",
              "      <td>37.000000</td>\n",
              "      <td>5.000000</td>\n",
              "      <td>1.000000</td>\n",
              "      <td>1.000000</td>\n",
              "    </tr>\n",
              "    <tr>\n",
              "      <th>75%</th>\n",
              "      <td>7223.000000</td>\n",
              "      <td>1.082310e+09</td>\n",
              "      <td>1.819249e+08</td>\n",
              "      <td>1.990000</td>\n",
              "      <td>2.793000e+03</td>\n",
              "      <td>140.000000</td>\n",
              "      <td>4.500000</td>\n",
              "      <td>4.500000</td>\n",
              "      <td>38.000000</td>\n",
              "      <td>5.000000</td>\n",
              "      <td>8.000000</td>\n",
              "      <td>1.000000</td>\n",
              "    </tr>\n",
              "    <tr>\n",
              "      <th>max</th>\n",
              "      <td>11097.000000</td>\n",
              "      <td>1.188376e+09</td>\n",
              "      <td>4.025970e+09</td>\n",
              "      <td>299.990000</td>\n",
              "      <td>2.974676e+06</td>\n",
              "      <td>177050.000000</td>\n",
              "      <td>5.000000</td>\n",
              "      <td>5.000000</td>\n",
              "      <td>47.000000</td>\n",
              "      <td>5.000000</td>\n",
              "      <td>75.000000</td>\n",
              "      <td>1.000000</td>\n",
              "    </tr>\n",
              "  </tbody>\n",
              "</table>\n",
              "</div>\n",
              "    <div class=\"colab-df-buttons\">\n",
              "\n",
              "  <div class=\"colab-df-container\">\n",
              "    <button class=\"colab-df-convert\" onclick=\"convertToInteractive('df-65a54ce2-d173-4fad-8584-e06cce877933')\"\n",
              "            title=\"Convert this dataframe to an interactive table.\"\n",
              "            style=\"display:none;\">\n",
              "\n",
              "  <svg xmlns=\"http://www.w3.org/2000/svg\" height=\"24px\" viewBox=\"0 -960 960 960\">\n",
              "    <path d=\"M120-120v-720h720v720H120Zm60-500h600v-160H180v160Zm220 220h160v-160H400v160Zm0 220h160v-160H400v160ZM180-400h160v-160H180v160Zm440 0h160v-160H620v160ZM180-180h160v-160H180v160Zm440 0h160v-160H620v160Z\"/>\n",
              "  </svg>\n",
              "    </button>\n",
              "\n",
              "  <style>\n",
              "    .colab-df-container {\n",
              "      display:flex;\n",
              "      gap: 12px;\n",
              "    }\n",
              "\n",
              "    .colab-df-convert {\n",
              "      background-color: #E8F0FE;\n",
              "      border: none;\n",
              "      border-radius: 50%;\n",
              "      cursor: pointer;\n",
              "      display: none;\n",
              "      fill: #1967D2;\n",
              "      height: 32px;\n",
              "      padding: 0 0 0 0;\n",
              "      width: 32px;\n",
              "    }\n",
              "\n",
              "    .colab-df-convert:hover {\n",
              "      background-color: #E2EBFA;\n",
              "      box-shadow: 0px 1px 2px rgba(60, 64, 67, 0.3), 0px 1px 3px 1px rgba(60, 64, 67, 0.15);\n",
              "      fill: #174EA6;\n",
              "    }\n",
              "\n",
              "    .colab-df-buttons div {\n",
              "      margin-bottom: 4px;\n",
              "    }\n",
              "\n",
              "    [theme=dark] .colab-df-convert {\n",
              "      background-color: #3B4455;\n",
              "      fill: #D2E3FC;\n",
              "    }\n",
              "\n",
              "    [theme=dark] .colab-df-convert:hover {\n",
              "      background-color: #434B5C;\n",
              "      box-shadow: 0px 1px 3px 1px rgba(0, 0, 0, 0.15);\n",
              "      filter: drop-shadow(0px 1px 2px rgba(0, 0, 0, 0.3));\n",
              "      fill: #FFFFFF;\n",
              "    }\n",
              "  </style>\n",
              "\n",
              "    <script>\n",
              "      const buttonEl =\n",
              "        document.querySelector('#df-65a54ce2-d173-4fad-8584-e06cce877933 button.colab-df-convert');\n",
              "      buttonEl.style.display =\n",
              "        google.colab.kernel.accessAllowed ? 'block' : 'none';\n",
              "\n",
              "      async function convertToInteractive(key) {\n",
              "        const element = document.querySelector('#df-65a54ce2-d173-4fad-8584-e06cce877933');\n",
              "        const dataTable =\n",
              "          await google.colab.kernel.invokeFunction('convertToInteractive',\n",
              "                                                    [key], {});\n",
              "        if (!dataTable) return;\n",
              "\n",
              "        const docLinkHtml = 'Like what you see? Visit the ' +\n",
              "          '<a target=\"_blank\" href=https://colab.research.google.com/notebooks/data_table.ipynb>data table notebook</a>'\n",
              "          + ' to learn more about interactive tables.';\n",
              "        element.innerHTML = '';\n",
              "        dataTable['output_type'] = 'display_data';\n",
              "        await google.colab.output.renderOutput(dataTable, element);\n",
              "        const docLink = document.createElement('div');\n",
              "        docLink.innerHTML = docLinkHtml;\n",
              "        element.appendChild(docLink);\n",
              "      }\n",
              "    </script>\n",
              "  </div>\n",
              "\n",
              "\n",
              "<div id=\"df-f7b94ed8-7910-44c6-a575-0f6e30da5a9b\">\n",
              "  <button class=\"colab-df-quickchart\" onclick=\"quickchart('df-f7b94ed8-7910-44c6-a575-0f6e30da5a9b')\"\n",
              "            title=\"Suggest charts\"\n",
              "            style=\"display:none;\">\n",
              "\n",
              "<svg xmlns=\"http://www.w3.org/2000/svg\" height=\"24px\"viewBox=\"0 0 24 24\"\n",
              "     width=\"24px\">\n",
              "    <g>\n",
              "        <path d=\"M19 3H5c-1.1 0-2 .9-2 2v14c0 1.1.9 2 2 2h14c1.1 0 2-.9 2-2V5c0-1.1-.9-2-2-2zM9 17H7v-7h2v7zm4 0h-2V7h2v10zm4 0h-2v-4h2v4z\"/>\n",
              "    </g>\n",
              "</svg>\n",
              "  </button>\n",
              "\n",
              "<style>\n",
              "  .colab-df-quickchart {\n",
              "      --bg-color: #E8F0FE;\n",
              "      --fill-color: #1967D2;\n",
              "      --hover-bg-color: #E2EBFA;\n",
              "      --hover-fill-color: #174EA6;\n",
              "      --disabled-fill-color: #AAA;\n",
              "      --disabled-bg-color: #DDD;\n",
              "  }\n",
              "\n",
              "  [theme=dark] .colab-df-quickchart {\n",
              "      --bg-color: #3B4455;\n",
              "      --fill-color: #D2E3FC;\n",
              "      --hover-bg-color: #434B5C;\n",
              "      --hover-fill-color: #FFFFFF;\n",
              "      --disabled-bg-color: #3B4455;\n",
              "      --disabled-fill-color: #666;\n",
              "  }\n",
              "\n",
              "  .colab-df-quickchart {\n",
              "    background-color: var(--bg-color);\n",
              "    border: none;\n",
              "    border-radius: 50%;\n",
              "    cursor: pointer;\n",
              "    display: none;\n",
              "    fill: var(--fill-color);\n",
              "    height: 32px;\n",
              "    padding: 0;\n",
              "    width: 32px;\n",
              "  }\n",
              "\n",
              "  .colab-df-quickchart:hover {\n",
              "    background-color: var(--hover-bg-color);\n",
              "    box-shadow: 0 1px 2px rgba(60, 64, 67, 0.3), 0 1px 3px 1px rgba(60, 64, 67, 0.15);\n",
              "    fill: var(--button-hover-fill-color);\n",
              "  }\n",
              "\n",
              "  .colab-df-quickchart-complete:disabled,\n",
              "  .colab-df-quickchart-complete:disabled:hover {\n",
              "    background-color: var(--disabled-bg-color);\n",
              "    fill: var(--disabled-fill-color);\n",
              "    box-shadow: none;\n",
              "  }\n",
              "\n",
              "  .colab-df-spinner {\n",
              "    border: 2px solid var(--fill-color);\n",
              "    border-color: transparent;\n",
              "    border-bottom-color: var(--fill-color);\n",
              "    animation:\n",
              "      spin 1s steps(1) infinite;\n",
              "  }\n",
              "\n",
              "  @keyframes spin {\n",
              "    0% {\n",
              "      border-color: transparent;\n",
              "      border-bottom-color: var(--fill-color);\n",
              "      border-left-color: var(--fill-color);\n",
              "    }\n",
              "    20% {\n",
              "      border-color: transparent;\n",
              "      border-left-color: var(--fill-color);\n",
              "      border-top-color: var(--fill-color);\n",
              "    }\n",
              "    30% {\n",
              "      border-color: transparent;\n",
              "      border-left-color: var(--fill-color);\n",
              "      border-top-color: var(--fill-color);\n",
              "      border-right-color: var(--fill-color);\n",
              "    }\n",
              "    40% {\n",
              "      border-color: transparent;\n",
              "      border-right-color: var(--fill-color);\n",
              "      border-top-color: var(--fill-color);\n",
              "    }\n",
              "    60% {\n",
              "      border-color: transparent;\n",
              "      border-right-color: var(--fill-color);\n",
              "    }\n",
              "    80% {\n",
              "      border-color: transparent;\n",
              "      border-right-color: var(--fill-color);\n",
              "      border-bottom-color: var(--fill-color);\n",
              "    }\n",
              "    90% {\n",
              "      border-color: transparent;\n",
              "      border-bottom-color: var(--fill-color);\n",
              "    }\n",
              "  }\n",
              "</style>\n",
              "\n",
              "  <script>\n",
              "    async function quickchart(key) {\n",
              "      const quickchartButtonEl =\n",
              "        document.querySelector('#' + key + ' button');\n",
              "      quickchartButtonEl.disabled = true;  // To prevent multiple clicks.\n",
              "      quickchartButtonEl.classList.add('colab-df-spinner');\n",
              "      try {\n",
              "        const charts = await google.colab.kernel.invokeFunction(\n",
              "            'suggestCharts', [key], {});\n",
              "      } catch (error) {\n",
              "        console.error('Error during call to suggestCharts:', error);\n",
              "      }\n",
              "      quickchartButtonEl.classList.remove('colab-df-spinner');\n",
              "      quickchartButtonEl.classList.add('colab-df-quickchart-complete');\n",
              "    }\n",
              "    (() => {\n",
              "      let quickchartButtonEl =\n",
              "        document.querySelector('#df-f7b94ed8-7910-44c6-a575-0f6e30da5a9b button');\n",
              "      quickchartButtonEl.style.display =\n",
              "        google.colab.kernel.accessAllowed ? 'block' : 'none';\n",
              "    })();\n",
              "  </script>\n",
              "</div>\n",
              "\n",
              "    </div>\n",
              "  </div>\n"
            ],
            "application/vnd.google.colaboratory.intrinsic+json": {
              "type": "dataframe",
              "summary": "{\n  \"name\": \"dataset\",\n  \"rows\": 8,\n  \"fields\": [\n    {\n      \"column\": \"Unnamed: 0\",\n      \"properties\": {\n        \"dtype\": \"number\",\n        \"std\": 3473.8531100680607,\n        \"min\": 1.0,\n        \"max\": 11097.0,\n        \"num_unique_values\": 8,\n        \"samples\": [\n          4759.069612338474,\n          4380.0,\n          7197.0\n        ],\n        \"semantic_type\": \"\",\n        \"description\": \"\"\n      }\n    },\n    {\n      \"column\": \"id\",\n      \"properties\": {\n        \"dtype\": \"number\",\n        \"std\": 436452998.43342257,\n        \"min\": 7197.0,\n        \"max\": 1188375727.0,\n        \"num_unique_values\": 8,\n        \"samples\": [\n          863130997.4515771,\n          978148241.0,\n          7197.0\n        ],\n        \"semantic_type\": \"\",\n        \"description\": \"\"\n      }\n    },\n    {\n      \"column\": \"size_bytes\",\n      \"properties\": {\n        \"dtype\": \"number\",\n        \"std\": 1383950107.9262674,\n        \"min\": 7197.0,\n        \"max\": 4025969664.0,\n        \"num_unique_values\": 8,\n        \"samples\": [\n          199134453.825066,\n          97153024.0,\n          7197.0\n        ],\n        \"semantic_type\": \"\",\n        \"description\": \"\"\n      }\n    },\n    {\n      \"column\": \"price\",\n      \"properties\": {\n        \"dtype\": \"number\",\n        \"std\": 2531.045170180262,\n        \"min\": 0.0,\n        \"max\": 7197.0,\n        \"num_unique_values\": 6,\n        \"samples\": [\n          7197.0,\n          1.726217868556343,\n          299.99\n        ],\n        \"semantic_type\": \"\",\n        \"description\": \"\"\n      }\n    },\n    {\n      \"column\": \"rating_count_tot\",\n      \"properties\": {\n        \"dtype\": \"number\",\n        \"std\": 1047020.4212299625,\n        \"min\": 0.0,\n        \"max\": 2974676.0,\n        \"num_unique_values\": 8,\n        \"samples\": [\n          12892.907183548701,\n          300.0,\n          7197.0\n        ],\n        \"semantic_type\": \"\",\n        \"description\": \"\"\n      }\n    },\n    {\n      \"column\": \"rating_count_ver\",\n      \"properties\": {\n        \"dtype\": \"number\",\n        \"std\": 62058.50581809791,\n        \"min\": 0.0,\n        \"max\": 177050.0,\n        \"num_unique_values\": 8,\n        \"samples\": [\n          460.3739057940809,\n          23.0,\n          7197.0\n        ],\n        \"semantic_type\": \"\",\n        \"description\": \"\"\n      }\n    },\n    {\n      \"column\": \"user_rating\",\n      \"properties\": {\n        \"dtype\": \"number\",\n        \"std\": 2543.410844828916,\n        \"min\": 0.0,\n        \"max\": 7197.0,\n        \"num_unique_values\": 8,\n        \"samples\": [\n          3.526955675976101,\n          4.0,\n          7197.0\n        ],\n        \"semantic_type\": \"\",\n        \"description\": \"\"\n      }\n    },\n    {\n      \"column\": \"user_rating_ver\",\n      \"properties\": {\n        \"dtype\": \"number\",\n        \"std\": 2543.4604179168828,\n        \"min\": 0.0,\n        \"max\": 7197.0,\n        \"num_unique_values\": 8,\n        \"samples\": [\n          3.253577879672086,\n          4.0,\n          7197.0\n        ],\n        \"semantic_type\": \"\",\n        \"description\": \"\"\n      }\n    },\n    {\n      \"column\": \"sup_devices.num\",\n      \"properties\": {\n        \"dtype\": \"number\",\n        \"std\": 2534.008740822475,\n        \"min\": 3.73771523885846,\n        \"max\": 7197.0,\n        \"num_unique_values\": 7,\n        \"samples\": [\n          7197.0,\n          37.36181742392664,\n          38.0\n        ],\n        \"semantic_type\": \"\",\n        \"description\": \"\"\n      }\n    },\n    {\n      \"column\": \"ipadSc_urls.num\",\n      \"properties\": {\n        \"dtype\": \"number\",\n        \"std\": 2543.3276731913566,\n        \"min\": 0.0,\n        \"max\": 7197.0,\n        \"num_unique_values\": 6,\n        \"samples\": [\n          7197.0,\n          3.7071001806308184,\n          5.0\n        ],\n        \"semantic_type\": \"\",\n        \"description\": \"\"\n      }\n    },\n    {\n      \"column\": \"lang.num\",\n      \"properties\": {\n        \"dtype\": \"number\",\n        \"std\": 2539.6798899820124,\n        \"min\": 0.0,\n        \"max\": 7197.0,\n        \"num_unique_values\": 7,\n        \"samples\": [\n          7197.0,\n          5.43490343198555,\n          8.0\n        ],\n        \"semantic_type\": \"\",\n        \"description\": \"\"\n      }\n    },\n    {\n      \"column\": \"vpp_lic\",\n      \"properties\": {\n        \"dtype\": \"number\",\n        \"std\": 2544.2674062038786,\n        \"min\": 0.0,\n        \"max\": 7197.0,\n        \"num_unique_values\": 5,\n        \"samples\": [\n          0.9930526608309017,\n          1.0,\n          0.08306643356297932\n        ],\n        \"semantic_type\": \"\",\n        \"description\": \"\"\n      }\n    }\n  ]\n}"
            }
          },
          "metadata": {},
          "execution_count": 6
        }
      ]
    },
    {
      "cell_type": "code",
      "source": [
        "dataset.isna().sum()"
      ],
      "metadata": {
        "id": "J9MWpCWbgklv",
        "outputId": "94548ad3-4aa4-4769-8ec3-627afd3700bc",
        "colab": {
          "base_uri": "https://localhost:8080/"
        }
      },
      "execution_count": 7,
      "outputs": [
        {
          "output_type": "execute_result",
          "data": {
            "text/plain": [
              "Unnamed: 0          0\n",
              "id                  0\n",
              "track_name          0\n",
              "size_bytes          0\n",
              "currency            0\n",
              "price               0\n",
              "rating_count_tot    0\n",
              "rating_count_ver    0\n",
              "user_rating         0\n",
              "user_rating_ver     0\n",
              "ver                 0\n",
              "cont_rating         0\n",
              "prime_genre         0\n",
              "sup_devices.num     0\n",
              "ipadSc_urls.num     0\n",
              "lang.num            0\n",
              "vpp_lic             0\n",
              "dtype: int64"
            ]
          },
          "metadata": {},
          "execution_count": 7
        }
      ]
    },
    {
      "cell_type": "code",
      "source": [
        "dataset['id'].unique()"
      ],
      "metadata": {
        "id": "uXLlwFTzgk1X",
        "outputId": "e94b3d10-eed9-46af-f30a-3fc1079c4b4a",
        "colab": {
          "base_uri": "https://localhost:8080/"
        }
      },
      "execution_count": 9,
      "outputs": [
        {
          "output_type": "execute_result",
          "data": {
            "text/plain": [
              "array([ 281656475,  281796108,  281940292, ..., 1187779532, 1187838770,\n",
              "       1188375727])"
            ]
          },
          "metadata": {},
          "execution_count": 9
        }
      ]
    },
    {
      "cell_type": "markdown",
      "source": [
        "Now that you've successfully cleaned and processed your data to an introductory extent, we can get started with some descriptive analyses!"
      ],
      "metadata": {
        "id": "rl9swN19gdeb"
      }
    },
    {
      "cell_type": "markdown",
      "source": [
        "---\n",
        "---"
      ],
      "metadata": {
        "id": "OLTbsPA9gchK"
      }
    },
    {
      "cell_type": "markdown",
      "source": [
        "## 💠 **PART THREE**: Descriptive Analyses 💠"
      ],
      "metadata": {
        "id": "arAv56RKhijh"
      }
    },
    {
      "cell_type": "markdown",
      "source": [
        "---\n",
        "\n",
        "### 📌 **REQUIRED CHALLENGE!** 📌\n",
        "\n",
        "> Descriptive analyses are powered by one major idea: asking critical questions about our data's relationships, patterns, and distributions.\n",
        ">\n",
        "> However, before we get there, let's at least get some basic fundamentals down for assessing our descriptive analysis capabilities.\n",
        ">\n",
        "> **Your challenge is to answer the following five descriptive analysis questions as best as you can and as programmatically as you can, relying on `numpy` and `pandas` to get the job done.**\n",
        ">\n",
        "> For starters, we'll navigate through some predetermined descriptive questions - ensure you utilize the full range of your `numpy` and `pandas` analytical skills to answer them to the best of your ability!\n",
        ">\n",
        "> Additionally, major predetermined questions have some helper comments provided to assist you in streamlining your development process.\n",
        "\n",
        "---"
      ],
      "metadata": {
        "id": "THa6ihVKhNwo"
      }
    },
    {
      "cell_type": "markdown",
      "metadata": {
        "id": "6TtvsllfRHhj"
      },
      "source": [
        "### 🔸 **Q1**: `What are the top ten highest rated free to play apps?`\n",
        "\n",
        "(**NOTE**: _Use ratings of current versions._)"
      ]
    },
    {
      "cell_type": "code",
      "metadata": {
        "id": "H6Fquzn0Sek3",
        "outputId": "193aeae2-add1-4515-97e7-c91f6011de6e",
        "colab": {
          "base_uri": "https://localhost:8080/"
        }
      },
      "source": [
        "\"\"\"\n",
        "What are the top ten highest rated (use rating of current version) free-to-play apps?\n",
        "\n",
        "> STEP 1: Get all free-to-play apps.\n",
        "> STEP 2: Sort by current version rating.\n",
        "> STEP 3: Get top ten apps.\n",
        "\n",
        "\"\"\"\n",
        "free_apps = dataset[dataset['price'] == 0.0]\n",
        "top_10_free_apps = free_apps.sort_values(by='user_rating', ascending=False).head(10)\n",
        "app_names = top_10_free_apps['track_name'].tolist()\n",
        "print(app_names)"
      ],
      "execution_count": 39,
      "outputs": [
        {
          "output_type": "stream",
          "name": "stdout",
          "text": [
            "['SelfieCity', 'Eye Training Cocololo-3dステレオグラム視力回復アプリ-', 'Triller - Music Video & Film Maker', 'Egg, Inc.', '小咖秀-全民视频才艺直播社区', 'Patternator Pattern Maker Backgrounds & Wallpapers', 'DANDY DUNGEON Legend of Brave Yamada', 'Ab & Core Sworkit - Free Workout Trainer', 'Cookie Clickers 2', 'Productive habits & daily goals tracker']\n"
          ]
        }
      ]
    },
    {
      "cell_type": "markdown",
      "metadata": {
        "id": "nQdpsjS3RJLr"
      },
      "source": [
        "### 🔸 **Q2**: `What genre has the most apps?`"
      ]
    },
    {
      "cell_type": "code",
      "metadata": {
        "id": "ypCakz0tS7I6",
        "outputId": "092f9ce9-a604-4543-877b-07952c1f46d2",
        "colab": {
          "base_uri": "https://localhost:8080/"
        }
      },
      "source": [
        "\"\"\"\n",
        "What genre has the most apps?\n",
        "\n",
        "> STEP 1: Use `.value_counts()` to combine app counts by genre.\n",
        "\"\"\"\n",
        "dataset['prime_genre'].value_counts().head(1)"
      ],
      "execution_count": 43,
      "outputs": [
        {
          "output_type": "execute_result",
          "data": {
            "text/plain": [
              "prime_genre\n",
              "Games    3862\n",
              "Name: count, dtype: int64"
            ]
          },
          "metadata": {},
          "execution_count": 43
        }
      ]
    },
    {
      "cell_type": "markdown",
      "metadata": {
        "id": "FN97GpMcRJPd"
      },
      "source": [
        "### 🔸 **Q3**: `For paid apps that are sold in dollars, what is the median rating for each genre?`"
      ]
    },
    {
      "cell_type": "code",
      "metadata": {
        "id": "Bsgo9PSuTH6K",
        "outputId": "468775f8-80f9-409a-8a08-0457d97653be",
        "colab": {
          "base_uri": "https://localhost:8080/"
        }
      },
      "source": [
        "\"\"\"\n",
        "For paid apps that are sold in dollars, what is the median rating for each genre?\n",
        "\n",
        "> STEP 1: Get all paid apps.\n",
        "> STEP 2: Get a subset of paid apps sold in dollars (USD).\n",
        "> STEP 3: Calculate median rating per genre.\n",
        "\"\"\"\n",
        "paid_apps_dollars = dataset[(dataset['price'] != '0.00')&(dataset['currency']=='USD')]\n",
        "median_rating_per_genre = paid_apps_dollars.groupby('prime_genre')['user_rating'].median()\n",
        "print(median_rating_per_genre)\n"
      ],
      "execution_count": 49,
      "outputs": [
        {
          "output_type": "stream",
          "name": "stdout",
          "text": [
            "prime_genre\n",
            "Book                 3.50\n",
            "Business             4.00\n",
            "Catalogs             1.75\n",
            "Education            4.00\n",
            "Entertainment        3.50\n",
            "Finance              3.00\n",
            "Food & Drink         4.00\n",
            "Games                4.50\n",
            "Health & Fitness     4.50\n",
            "Lifestyle            3.50\n",
            "Medical              4.50\n",
            "Music                4.00\n",
            "Navigation           3.50\n",
            "News                 3.50\n",
            "Photo & Video        4.50\n",
            "Productivity         4.50\n",
            "Reference            4.00\n",
            "Shopping             4.00\n",
            "Social Networking    3.50\n",
            "Sports               3.50\n",
            "Travel               4.00\n",
            "Utilities            4.00\n",
            "Weather              4.00\n",
            "Name: user_rating, dtype: float64\n"
          ]
        }
      ]
    },
    {
      "cell_type": "markdown",
      "metadata": {
        "id": "YoPeZuOORJS_"
      },
      "source": [
        "### 🔸 **Q4**: `What is the average size in megabytes for each genre for apps rated 4.0 or higher?`\n",
        "\n",
        "(**NOTE**: _Use ratings of current version._)"
      ]
    },
    {
      "cell_type": "code",
      "metadata": {
        "id": "-vrx-_cXTIGX",
        "outputId": "f7641704-b2cc-4eaf-fc21-73a7ac994f44",
        "colab": {
          "base_uri": "https://localhost:8080/"
        }
      },
      "source": [
        "\"\"\"\n",
        "What is the average size in megabytes for each genre for apps rated 4.0 or higher?\n",
        "(NOTE: Use rating of current version.)\n",
        "\n",
        "> STEP 1: Get all apps rated 4.0 or higher.\n",
        "> STEP 2: Calculate mean app size per genre.\n",
        "> STEP 3: Convert Series values from KB to MB by dividing values by 1,000,000.\n",
        "\"\"\"\n",
        "app_rated_over_4 = dataset[dataset['user_rating'] >= 4.0]\n",
        "mean_app_size_per_genre = app_rated_over_4.groupby('prime_genre')['size_bytes'].mean()\n",
        "mean_app_size_per_genre_mb = mean_app_size_per_genre/1000000"
      ],
      "execution_count": 54,
      "outputs": [
        {
          "output_type": "stream",
          "name": "stdout",
          "text": [
            "prime_genre\n",
            "Book                 240.729963\n",
            "Business              65.193809\n",
            "Catalogs              78.466304\n",
            "Education            182.588147\n",
            "Entertainment        118.746180\n",
            "Finance               94.012611\n",
            "Food & Drink          81.013728\n",
            "Games                289.441604\n",
            "Health & Fitness      97.003087\n",
            "Lifestyle             78.385214\n",
            "Medical              583.507968\n",
            "Music                117.347902\n",
            "Navigation            65.457529\n",
            "News                  66.876507\n",
            "Photo & Video         74.221146\n",
            "Productivity          82.609820\n",
            "Reference            116.281190\n",
            "Shopping              99.442608\n",
            "Social Networking     86.420384\n",
            "Sports                87.398319\n",
            "Travel                82.145045\n",
            "Utilities             59.824530\n",
            "Weather               65.665164\n",
            "Name: size_bytes, dtype: float64\n"
          ]
        }
      ]
    },
    {
      "cell_type": "markdown",
      "metadata": {
        "id": "bE0o-DDqRJWg"
      },
      "source": [
        "### 🔸 **Q5**: `What is the average price (in USD) by genre for paid apps rated higher than 3.0?`\n",
        "\n",
        "(**NOTE**: _Assume that all non-USD prices are dropped from consideration._)"
      ]
    },
    {
      "cell_type": "code",
      "metadata": {
        "id": "q_AXxl7yTIZz"
      },
      "source": [
        "\"\"\"\n",
        "What is the average price (in USD) by genre for paid apps rated higher than 3.0?\n",
        "(NOTE: Assume that all non-USD prices are not considered.)\n",
        "\n",
        "> STEP 1: Get all apps rated higher than 3.0.\n",
        "> STEP 2: Get subset of data by paid apps.\n",
        "> STEP 3: Get subset of data by USD currencies only.\n",
        "> STEP 4: Calculate mean app price by genre.\n",
        "\"\"\"\n",
        "app_rated_over_3_paid_apps_usd = dataset[(dataset['user_rating'] > 3.0) & (dataset['price'] > 0.00) & (dataset['currency']=='USD')]\n",
        "mean_app_price_by_genre3 = app_rated_over_3_paid_apps_usd.groupby('prime_genre')['price'].mean()"
      ],
      "execution_count": 59,
      "outputs": []
    },
    {
      "cell_type": "markdown",
      "source": [
        "Great work! However, answering some predetermined questions does not make you a professional data analyst.\n",
        "\n",
        "At the end of the day, your own creativity and intrigue are what guide your analytical and technical hand."
      ],
      "metadata": {
        "id": "Ya9ztM0mtR47"
      }
    },
    {
      "cell_type": "markdown",
      "source": [
        "---\n",
        "\n",
        "### 📌 **REQUIRED CHALLENGE!** 📌\n",
        "\n",
        "> It's worthwhile putting you in the batter's box and allowing you to ask some complex descriptive questions... that you'll also take the opportunity to answer.\n",
        ">\n",
        "> **Your challenge is to create _two_ (2) additional descriptive questions to ask and answer them using the cells provided below.**\n",
        ">\n",
        "> We want to be wary of straying too deeply into the realm of inferentially statistical and/or predictively analytical questions, as those may be easy to ask but very challenging to effectively answer.\n",
        ">\n",
        "> As such, be direct and concise with your questions, but also don't be afraid of being ambitious; this is the way to becoming a better, more confident data scientist, after all!\n",
        "\n",
        "---"
      ],
      "metadata": {
        "id": "OAuJL2eDtkC4"
      }
    },
    {
      "cell_type": "markdown",
      "source": [
        "### 🔸 **Q6**: `[STUDENT SUBMISSION QUESTION]`"
      ],
      "metadata": {
        "id": "OYC_xlNCuMIH"
      }
    },
    {
      "cell_type": "code",
      "source": [
        "# STUDENTS: Write some code to answer your first proposed descriptive question!\n",
        "'''\n",
        "What are the free app has the best rating?\n",
        "'''\n",
        "free_app_top_rating = dataset[(dataset['user_rating']==4.5) & (dataset['price']== 0.00)]\n",
        "print(free_app_top_rating['track_name'].to_list())\n"
      ],
      "metadata": {
        "id": "RoV1RWbmu8Lo",
        "outputId": "bc0e5ea8-b349-4337-cb92-1850ed01381b",
        "colab": {
          "base_uri": "https://localhost:8080/"
        }
      },
      "execution_count": 78,
      "outputs": [
        {
          "output_type": "stream",
          "name": "stdout",
          "text": [
            "['Bible', 'Sonos Controller', 'OpenTable - Restaurant Reservations', 'Chase Mobile℠', 'The Masters Tournament', 'WhatsApp Messenger', 'Zillow Real Estate - Homes for Sale & for Rent', 'radio.de - Der Radioplayer', 'AutoScout24 - mobile used & new car market', 'Sky Burger - Build & Match Food Free', 'Sleep Cycle alarm clock', 'Pixel Starships™ : 8Bit MMORPG', 'MyRadar NOAA Weather Radar Forecast', 'Waze - GPS Navigation, Maps & Real-time Traffic', 'Spotify Music', 'Starbucks', 'Walgreens – Pharmacy, Photo, Coupons and Shopping', 'Runtastic Running, Jogging and Walking Tracker', 'Calorie Counter & Diet Tracker by MyFitnessPal', 'BlaBlaCar - Trusted Carpooling', 'IMDb Movies & TV - Trailers and Showtimes', 'Angry Birds', 'Star Chart', 'Badoo - Meet New People, Chat, Socialize.', 'Venmo', 'Waterlogged - Daily Hydration Tracker', 'The Washington Post Classic', 'Groupon - Deals, Coupons & Discount Shopping App', 'Solitaire', 'Angry Birds HD', 'Dictionary.com Dictionary & Thesaurus for iPad', 'Documents 6 - File manager, PDF reader and browser', 'Photo Transfer App - Easy backup of photos+videos', '▻Sudoku', 'Hotels & Vacation Rentals by Booking.com', 'Résultats Foot en Direct', 'Chase Mobile', 'Tango - Free Video Call, Voice and Chat', 'Mega Millions & Powerball - lottery games in the US with winning number results, lotto jackpots and prize payouts', 'Audible – audio books, original series & podcasts', 'Ringtones for iPhone & Ringtone Maker', 'Onefootball - Soccer Scores & Live News', '手机百度 - 百度一下你就得到', 'eBay Kleinanzeigen - Free. Easy. Local.', 'Viber Messenger – Text & Call', 'shopkick - Shopping Rewards & Discounts', 'Find My Family, Friends & iPhone - Life360 Locator', '乐视视频-白鹿原,欢乐颂,奔跑吧全网热播', 'Weibo HD', 'Muslim Pro: Ramadan 2017 Prayer Times, Azan, Quran', 'Flashlight for iPhone , iPod and iPad', 'QQ同步助手-新机一键换机必备工具', 'Instagram', 'Sleep Talk Recorder', 'GroupMe', 'Jenga', 'Sephora Makeup & Beauty App – Insider Tips & Style', 'Spider Solitaire Free by MobilityWare', 'Black Friday 2017 Ads App - BlackFriday.fm', 'The Calculator - Free and Easy Calculating!', 'Fooducate - Lose Weight, Eat Healthy,Get Motivated', 'Merriam-Webster Dictionary', 'iExit Interstate Exit Guide', 'QuakeFeed Earthquake Map, Alerts, and News', 'Fruit Ninja®', 'Coach Guitar - Lessons & Easy Tabs For Beginners', 'GasBuddy', 'Capital One Mobile', 'HotelTonight - Great Deals on Last Minute Hotels', 'Splice - Video Editor + Movie Maker by GoPro', 'Microsoft OneNote', 'TEDiSUB - Enjoy TED Talks with Subtitles', 'SkyView® Free - Explore the Universe', 'WeChat', '安居客-二手房、新房、租房的找房助手', 'My Verizon', '唯品会-欢乐颂2独家电商 同款热卖', 'GMX Mail', 'Bleacher Report: Sports news, scores, & highlights', 'TuneIn Radio - MLB NBA Audiobooks Podcasts Music', '万年历-值得信赖的日历黄历查询工具', 'Temple Run', 'Angry Birds Rio', 'Angry Birds Rio HD', 'My Horse', 'Magic Piano by Smule', 'Tiny Tower - Free City Building', '美团 - 吃喝玩乐全都有', 'SPIEGEL ONLINE - Nachrichten', '网易新闻 - 精选好内容，算出你的兴趣', 'ooVoo – Free Video Call, Text and Voice', 'Pinterest', 'Flashlight ！', '美丽说-潮流穿搭快人一步', 'ROBLOX', 'Nyan Cat: Lost In Space', 'Fishing Kings Free+', 'Werewolf \"Nightmare in Prison\"', 'Moji Weather - Free Weather Forecast', 'Viator Tours & Activities', '搜狐新闻—新闻热点资讯掌上阅读软件', 'SayHi Translate', '聚力视频-蓝光电视剧电影在线热播', 'Magic Jigsaw Puzzles', 'DragonVale', 'Lieferheld - Delicious food delivery service', 'Kwai - Share your video moments', 'Photo Lab: Picture Editor, effects & fun face app', 'Camera360 - Selfie Filter Camera, Photo Editor', 'Hotspot Shield Free VPN Proxy & Wi-Fi Privacy', 'Racing Penguin Free - Top Flying and Diving Game', 'Calculator for iPad Free.', 'LOVOO - Dating Chat', 'Phoenix HD', '途牛旅游-订机票酒店，查旅行景点门票', 'Truecaller - Spam Identification & Block', 'ibis Paint X - speed painting', '咕咚-你的跑步骑行运动社区', 'Flashlight ◎', 'Jetpack Joyride', '搜狐视频-欢乐颂2 全网首播', 'Top Eleven 2017 - Be a Soccer Manager', 'Twitch', 'Kids Doodle - Movie Kids Color & Draw', 'Trello', '高德地图（精准专业的手机地图）', 'Meitu HD', 'PINK Nation', 'Perfect Image - Pic Collage Maker, Add Text to Photo, Cool Picture Editor', 'Zen Pinball', 'The Sims™ FreePlay', '百度糯米-电影,美食团购', 'OfferUp - Buy. Sell. Simple.', 'HP All-in-One Printer Remote', 'CSR Racing', 'Lloyds Bank Mobile Banking', 'Poshmark: Buy & Sell Fashion', 'Bandsintown Concerts', 'Haunted Halloween Escape', 'Night Sky', 'Perfect365 - Custom makeup designs and beauty tips', 'Alarm Clock HD Free - Digital Alarm Clock Display', 'Cougar Dating & Life Style App for Mature Women', 'Etsy: Shop Handmade, Vintage & Creative Goods', '⋆Solitaire', 'Bejeweled Classic', 'Canvas by Instructure', 'Roku', 'Quick Scan - QR Code Reader', 'Weather Underground: Custom Forecast & Local Radar', 'Halifax Mobile Banking', 'Calculator‰', \"Lep's World Free - platformer games\", 'Calculator HD Free', 'happn — Dating app — Find and meet your crush', 'Action Movie FX', 'Fresh Tracks Snowboarding', 'The CW', 'iPaint uPaint', 'edjing Mix:DJ turntable to remix and scratch music', 'Highway Rider', 'Jigsaw Puzzle', 'VS. Racing 2', '▻Solitaire', 'Regal Cinemas', '猫眼电影 - 一网打尽好电影', 'Emoji>', 'Hay Day', '饿了么外卖-大牌美食，折扣热卖', 'Google Drive - free online storage', '360云盘', 'Pic Jointer – Photo Collage, Camera Effects Editor', 'Smule Sing!', 'Bike Race - Top Motorcycle Racing Games', 'Amazon Music', 'Extreme Fishing 2 Free', 'Flipagram', 'Subway Surfers', 'Bazaart Photo Editor Pro and Picture Collage Maker', 'LINE Camera - Photo editor, Animated Stamp, Filter', 'Bejeweled Classic HD', 'You Doodle - draw on photos & pictures, add text', 'SuperPhoto - Photo Effects & Filters', '聚美优品-新用户专享160元现金券', 'Depop - Buy, Sell and Share', '天猫-购物', 'FOCUS Online - Aktuelle Nachrichten', 'The Sandbox - Building & Crafting a Pixel World!', 'RetailMeNot Shopping Deals, Coupons, Savings', 'My Singing Monsters', 'PIP Camera-Selfie Cam&Pic Collage&Photo Editor', 'ATracker - Daily Task and Time Tracking', 'Brutal Street', \"Slots - Pharaoh's Way\", 'Remind: Fast, Efficient School Messaging', '宝宝树孕育-火爆的备孕怀孕育儿社区', 'My Mixtapez Music', 'Fuel Rewards® program', 'Flow Free', 'Photo Editor by Aviary', 'ナビタイムの乗り換え案内 - 遅延情報やバス時刻表を案内するアプリ', '今日头条 - 热点新闻资讯、娱乐视频', 'Lyft', 'SnoreLab : Record Your Snoring', 'Clash of Clans', 'Zombie Tsunami', 'Wish - Shopping Made Fun', 'Photo Collage Maker & Photo Editor - Live Collage', 'Trigger Fist', 'Talking Ginger for iPad', 'DEAD TRIGGER', 'MY LITTLE PONY: Magic Princess Quests', 'Bad Piggies', 'KODAK Kiosk Connect App', 'Bubble Mania™', 'Tapage by My Little App', 'Certified Mixtapes - Hip Hop Albums & Mixtapes', 'Hungry Shark Evolution', 'Into the Dead', 'Fitstar Personal Trainer', 'Over— Edit Photos, Add Text & Captions to Pictures', 'Big Fish Casino – Best Vegas Slot Machines & Games', '暴风影音-BaoFeng Player', 'Robot Unicorn Attack 2', '8 Ball Pool™', 'Photo Grid - photo collage maker & photo editor', 'Bad Piggies HD', 'Quizlet: Study Flashcards, Languages & Vocabulary', 'Photo Editor-', 'Bingo!™', 'Traffic Racer', 'Karaoke - Sing Karaoke, Unlimited Songs!', '百度网盘', 'ZARA', 'Followers - Social Analytics For Instagram', 'ClassDojo', '百度地图HD', 'Candy Crush Saga', 'Real Racing 3', 'Angry Birds Star Wars', 'Angry Birds Star Wars HD', 'Total - Free browser with file manager and cloud storage support', 'Inkly: Greeting Cards, Postcards, Flowers & Gifts', 'Dashy Crashy', 'InsTrack for Instagram - Analytics Plus More', 'Ibotta: Cash Back App, Grocery Coupons & Shopping', 'Mini Golf Stars! Retro Golf Game', 'Concepts - Sketch, Design, Illustrate', 'Clumsy Ninja', 'Dragon City Mobile', 'Hill Climb Racing', 'Fit Brains Trainer', 'Duolingo - Learn Spanish, French and more', 'Repost for Instagram', 'FOX NOW - Watch Full Episodes and Stream Live TV', 'Gangstar Vegas', '365Scores', 'Temple Run 2', 'Beat the Boss 2', 'iGun Pro HD - The Original Gun Application', 'LINE PLAY - Your Avatar World', 'Pou', 'Injustice: Gods Among Us', '我想有个家', 'Lumosity - Brain Training', 'Retrica - Selfie Camera with Filter, Sticker & GIF', '车轮查违章-2017全国车辆违章查询助手', 'MyScript Calculator - Handwriting calculator', 'Blitz Brigade: Multiplayer FPS shooter online!', 'Megapolis', 'The Silent Age', 'WWF Together', 'Sonic Dash', 'SeatGeek – Tickets to Sports, Concerts & Broadway', '途家-全球公寓民宿预订平台', 'Deer Hunter Classic', 'Google Maps - Navigation & Transit', 'Super Stickman Golf 2', 'ABCmouse.com - Early Learning Academy', 'Microsoft Word', 'Coin Party: Carnival Pusher', 'Microsoft Excel', 'PicsArt Photo Studio: Collage Maker & Pic Editor', 'The Walking Dead: Dead Yourself', 'Alpaca World HD+', 'SportsManias: Sports Emojis, Fantasy & Team News', 'Plant Nanny - Water Reminder with Cute Plants', 'Musi - Unlimited Music For YouTube', 'Solitaire·', '天猫HD', \"Pearl's Peril - Hidden Object Adventures\", '4 Pics 1 Word', 'Despicable Me: Minion Rush', 'Real Basketball', 'Plants vs. Zombies™ 2', 'CSR Classics', 'Sleep Meister - Sleep Cycle Alarm Lite', 'Mr. Crab', 'InstaBeauty -Camera&Photo Editor&Pic Collage Maker', 'FanDuel - Daily Fantasy Baseball, Golf & Sports', 'School of Chaos Online MMORPG', 'CVS', 'Smash Hit', 'Pirate Power', 'Solitaire Classic Card Game™', 'RPG AVABEL ONLINE', 'MOLDIV - Photo Editor, Collage & Beauty Camera', 'Farm Heroes Saga', 'Asphalt 8: Airborne', 'InstaMag - Free Pic and Photo Collage Maker', 'Village Life: Love, Marriage and Babies', 'Hopscotch', '驾校一点通-保过版，2017最新驾考学车宝典', 'Talking Ginger 2', 'Bloons TD Battles', 'Stupid Test!', 'MLB.com Home Run Derby 17', 'Doodle Jump Easter Special', 'Icon Pop Song', 'Yahoo Weather', 'Close Up Pics Quiz - Guess the Word Trivia Games', 'Tetris® Blitz', '沪江开心词场-英语、日语、韩语学习助手', 'RUNNING for weight loss: workout & meal plans', '达令全球好货－正品免税，带你购全球', 'Township', 'Dumb Ways to Die', 'Pixel Gun 3D', 'Nextdoor', 'Tayasui Sketches', 'Spinrilla - Mixtapes For Free', 'Jigsaw Puzzle Collection HD', 'Verizon Cloud', 'Solitaire Deluxe® Social - Classic, Spider, more', 'Evil Apples: A Filthy Adult Card & Party Game', 'Angry Birds Star Wars II', 'Monogram - Wallpaper & Backgrounds Maker HD DIY with Glitter Themes', 'Solitaire ∘', 'Happy Wheels', 'Seven - 7 Minute Workout Training Challenge', 'Battle Camp HD - Collect & Evolve Your Monsters', 'FollowMeter for Instagram - Followers Tracking', 'Trivia Crack', '100 PICS Quiz - guess the picture trivia games', 'Kanvas - Express Yourself', 'Monster Legends RPG - War, Fight & Heroes Game', 'Charades!™', 'Freeletics Bodyweight - Workouts and Training', 'Modern Combat 5 : The Multiplayer eSports Shooter', 'Episode - Choose Your Story', 'Clue Period Tracker: Period & Ovulation Tracker', 'My Talking Tom', 'ようとん場', 'Can You Escape', 'Trials Frontier', 'Real Steel World Robot Boxing', 'Santa Call & Tracker Free - North Pole Command', '. Calculator .', 'Fishdom', 'Retale - Coupons, Weekly Ads & Stores Nearby', 'RealTimes: Video Maker', 'Ninja Kid Run VR: Runner & Racing Games For Free', '洋码头—正品保证海外买手带你全球购洋货', 'Vainglory', 'Boom Beach', 'WGT Golf Game by Topgolf', 'MARVEL Spider-Man Unlimited', 'Candy Blast Mania', 'Photo Quilt - Auto Collage Maker', 'Gods Of Rome', 'Batman: Arkham Origins', 'Voice Recorder (FREE)', 'Fairway Solitaire Blast', 'Runtastic Six Pack Abs Workout & Core Trainer', 'Cops N Robbers (FPS) - Block Survival Multiplayer', 'Spider Solitaire ∙', 'Stop - Fun Categories Word Game', 'SlideStory - Create a slideshow movie and a snap video', 'Mimpi', 'Cascade: Fun Spin and Match Puzzle Game', 'Frozen Free Fall', \"Assassin's Creed Pirates\", 'Capital One for iPad', 'Piano - Play Keyboard Music Games with Magic Tiles', 'Quik – GoPro Video Editor to edit clips with music', 'myCANAL - la TV by CANAL en direct et replay', 'Ace Fishing: Wild Catch', 'War Commander: Rogue Assault', 'Shadow Fight 2', 'Flick Kick Football Legends', 'QR Code Reader by Scan', 'Pocket Troops', 'Panda Pop', 'Slam Dunk Basketball 2 - Play & Do Good', 'Ever - Capture Your Memories', 'Royal Revolt 2 – Defend Your Castle', 'My Boo - Virtual Pet with Mini Games for Kids', 'WordBrain', 'GANMA! - 漫画が制限ナシで読み放題のマンガアプリ', 'DraftKings - Daily Fantasy Golf, Baseball, & More', 'Forge of Empires', 'Square Cash - Send Money for Free', 'Cooking Fever', 'SafeTrek - Personal Safety', 'Force Saber of Light', 'Jam League', '一骑当千OL-万人国战（Legend Of Warrior）', 'Swamp Attack', 'QuizUp™', 'Epic! - Unlimited Books for Kids', 'DoorDash - Food Delivery', 'comico/人気オリジナル漫画が毎日更新！/コミコ', 'Hidden City®: Mystery of Shadows', \"Lep's World 3\", 'Flipp - Weekly Ads, Shopping List, and Coupons', 'Christmas Countdown 2017', 'Cookie Jam', 'Christmas Dentist Doctor Kid Games (Girls & Boys)', 'Xbox', '美团外卖-甜点生鲜等零食配送，鲜花蛋糕准时必达', 'VivaVideo - Best Video Editor & Photo Movie Maker', 'Red－shop the world', 'Alpha Omega', 'Wallpapers for Me - Themes & Background Images', 'Weather Live Free - Weather Forecast & Alerts', 'Emoji Keyboard for Me - Free Emoji Keyboard Themes', 'Calculator Pro for iPad Free - Smart Calculator', 'NOAA Weather Radar - Weather Forecast & HD Radar', 'Skyline Skaters', 'Pakka Pets Village - Build a Cute Virtual Pet Town', '懂球帝 - 足球迷必备神器', 'Angry Birds Epic RPG', 'Criminal Case', 'YouCam Perfect - Photo & Selfie Editor', 'MiP App', '宜搜小说-亿万网友共享高品质阅读离线追更', 'Bowling King', 'Microtrip', 'MiFlight™ – Airport security line wait times at checkpoints for domestic and international travelers', 'WWE SuperCard', 'Dungeon Boss', 'Naughty Kitties', 'FlixBus - bus travel in Europe', 'Quick Fit - 7 Minute Workout, Abs, and Yoga', 'Heart of Vegas Slots – Casino Slot Machine Games', 'Mixgram - Picture Collage Maker - Pic Photo Editor', '宜人贷借款', 'Jodel', 'Block Сity Wars: game and skin export to minecraft', 'Jurassic World™: The Game', 'ゆるドラシル -本格派神話RPG-', 'Crazy Taxi™ City Rush', 'Disco Zoo', 'Mimitos Virtual cat with minigames', 'MarcoPolo Ocean', 'Got It - Homework Help Math, Chem, Physics Solver', 'Rookie Cam - Photo Editor & Filter Camera', '作业帮-小初高学生拍照答疑学习辅导助手', 'Words with Friends – Best Word Game', 'Speak & Translate － Voice and Text Translator', 'Lastronaut', 'Tynker - Learn to Code. Programming Made Easy.', 'War Robots', 'Peak - Brain Training', 'Godus', 'Dash Up 2', 'Crazy Freekick', 'PKTBALL - Endless Arcade Smash Sport', 'iWeather - World weather forecast', 'Skiplagged — Actually Cheap Flights & Hotels', 'Soccer Stars™', 'Gummy Drop! – A Match 3 Puzzle Game', '百度手机卫士－wifi管家照片管理防骚扰安全助手', 'Flappy Golf', 'Scanbot - Scanner App & Fax', 'Spellspire', 'musical.ly - your video social network', 'MMX Racing', 'Wishbone - Compare Anything', 'Family Guy: The Quest for Stuff', 'Sunken Secrets', 'Jupiter Jump', 'Make It Rain: The Love of Money', 'Yup - Homework Help with Math & Science Tutors', 'VIDO - Rewards, Music and Videos for YouTube', '2048', 'Google Docs', 'Google Sheets', 'Funimate video editor: add cool effects to videos', 'Zombie Catchers', 'WordNerd - The picture puzzle game for word nerds', 'Meipai', 'Score! Hero', 'Star Wars™: Commander', \"Piano Tiles (Don't Tap The White Tile)\", '100 Balls', 'Candy Crush Soda Saga', 'The Impossible Letter Game', 'Pet Buddies HD', 'No Brakes', 'Sounds app - Music And Friends', 'Adobe Spark Video, Animated Videos in minutes', 'Looney Tunes Dash!', 'タップル誕生 - 出会いアプリで趣味から恋活・婚活', 'Summoners War', 'MADDEN NFL Mobile', 'World of Tanks Blitz', 'Kim Kardashian: Hollywood', 'Tantan', '94%', 'Fyuse - 3D Photos', 'YouCam Makeup: Magic Makeup Selfie Cam', 'Mucho Party', 'Kritika: The White Knights', 'Cupcake Mania™', 'LINE: Disney Tsum Tsum', 'Best Fiends', 'Bitmoji - Your Personal Emoji', 'Angry Birds Transformers', 'Timberman', 'Instant Repost for Instagram-Stories Repost Upload', 'JibJab', 'Smart Music: Streaming Videos and Radio', 'Photo Editing Effects & Collage Maker - Effectshop', 'E! Now', 'Fantasy Forest Story: Land Before Dragons', \"SHEIN Shopping - Women's Clothing & Fashion\", 'Two Dots', 'Gods of Olympus', 'Turbo Dismount®', 'RoverCraft Space Racing', 'Billionaire – Business Capitalist Tycoon!', 'Beach Buggy Racing', 'ダイエットが続く！人気のカロリー・体重管理アプリ 「もぐたん」', 'Dragon Mania Legends: Dragon Breeding Game', 'My Emma :)', 'Need for Speed™ No Limits', 'AT&T Mobile Transfer - Free', \"Magic Tiles : Music Maker - Don't Touch the White\", 'Adobe Photoshop Mix - Cut out, combine, create', 'Online Head Ball', 'Dungeon Hunter 5 - Multiplayer RPG on iOS', 'WiFi钥匙—万能wifi密码钥匙', 'Diamond Quest!', 'LINE PokoPoko', 'FALLMAN – Trampoline Action', 'Toy Blast', 'Soccer Star 2016 World Legend', 'Free Piano app by Yokee', 'Simple Radio - Live AM & FM Radio Stations', '8-BIT WATERSLIDE', 'Zombie Highway 2', 'Solitaire TriPeaks: Classic Card Game', 'Juice Jam', 'Plants vs. Zombies FREE HD', 'Toast Girl', 'Plantera - Idle Farm Clicker', 'Record by Under Armour, connects with UA HealthBox', '阴阳师-全区互通现世集结', 'LINE Bubble 2', 'MARVEL Contest of Champions', 'Canva - Graphic Design & Photo Editing', 'Seashine', 'Wheel of Fortune: Game Show Word Puzzles', 'Empires & Allies', 'Call of Duty®: Heroes', 'Bullet Boy', 'EA SPORTS™ UFC®', 'PNP 2016 Portable North Pole—Create Santa Videos', 'Guess The Song - New music quiz!', 'Free QR Code Reader & Barcode Scanner for iPhone', 'Hopper - Predict, Watch & Book Flights', 'B612 - Trendy Filters, Selfiegenic Camera', 'Troll Face Quest Video Memes', 'Inbox by Gmail', 'Sir Match-a-Lot – Match 3 Puzzle Game', 'aa', 'Daddy Long Legs', '小猿搜题-中小学拍照搜题作业帮手', 'Run!!!', 'Ideas for Elves — The Elf on the Shelf®', 'Dr. Seuss Treasury — 50 best kids books', 'Digimon Heroes!', 'My Talking Angela', 'Rival Stars Basketball', '全民K歌', 'The Voice Official App on NBC', 'Clicker Heroes', 'SNKRS', 'Adobe Illustrator Draw', '1010!', 'Dawn of Titans', 'Trebel Music - Unlimited Music Downloader', 'Marco Polo Video Walkie Talkie', 'Fist of Fury', 'SimCity BuildIt', '家长通-一起作业旗下家长端的同步课堂点读机', 'One More Line', 'Retouch Vogue - Facetune Wrinkles & Pimples Makeup', 'RAMBOAT - Game of Shoot and Dash, Run and Jump !', 'RainbowKey - Color keyboard themes, fonts & GIF', 'Stormfall: Rise of Balur', '讯飞输入法-智能语音输入和表情斗图神器', '5miles: Buy and Sell Used Stuff Locally', 'Afterpulse', '史上最强的大脑4-超级王者(时代永恒小强)', 'Monster Mania', 'Stick Hero', 'Inside Out Thought Bubbles', 'Dubsmash', 'DUAL!', 'Javelin Masters 2', 'Photomath - Camera Calculator', 'Tiny Miners', 'Fun Run 2 - Multiplayer Race', 'Star Wars™: Galaxy of Heroes', 'Everpix HD Wallpapers - Cool Backgrounds & Themes', 'Felt: Birthday & Greeting Cards & Thank You Card', 'WordBubbles!', 'Email - Fast & Secure mail for Gmail iCloud Yahoo', 'N.O.V.A. 3: Freedom Edition - Near Orbit Vanguard Alliance game', 'codeSpark Academy with The Foos - coding for kids', '单机三国志2-铜雀台资料片 天天都玩', 'Neko Atsume: Kitty Collector', 'Monster & Commander', 'Crossy Road - Endless Arcade Hopper', 'AdVenture Capitalist', 'MONOPOLY Bingo!', 'Clockmaker – Mystery Match3 Puzzle', 'PES CLUB MANAGER', 'Sandstorm: Pirate Wars', 'Smash Monsters - City Rampage', 'Train Conductor World', 'Dog Simulator 2015', 'DC Legends', 'Real Boxing 2 ROCKY', 'StickyBalls Deluxe - Addicting Fall Down Game', 'A Call From Santa! Voicemail & Text Messages', 'Foot Locker', 'Weirdwood Manor', 'YouTube Kids', 'Christmas Sweeper 2', 'Pic-it Collage - Photo Collage Maker and Editor', 'Angry Birds POP! - Bubble Shooter', 'Feed’em Burger', '夢王国と眠れる100人の王子様', 'Mahjong Journey®', 'HIGO-全球奢侈品牌和设计师品牌购买平台', 'TurboTax Tax Return App - File 2016 income taxes', 'Medly - Music Maker', 'Seekers Notes: Hidden Mystery', 'Dragon Land', 'Color Pop Effects - Photo Editor & Picture Editing', 'Tap Titans', 'WWE Immortals', 'Lock Screens - Free Wallpapers & Background Themes', 'Runtastic Butt Workout & Booty Trainer Plans', 'Dude Perfect 2', 'The Sandbox Evolution - Craft a 2D Pixel Universe', 'Evel Knievel', 'Clash of Kings - CoK', 'YAZIO – Calorie Counter & Nutrition Tracker', 'Ball King', 'Game of Dice', 'Earn to Die 2 Lite', 'LINE BROWN FARM', 'MORTAL KOMBAT X', 'Gear.Club - True Racing', 'Lumyer - augmented reality camera effects', 'Jet: Online Shopping Deals & Bulk Wholesale Prices', 'Dr. Panda Restaurant Asia', 'Prodigy Math Game', 'The Line Zen', 'ZigZag', 'Touchdown Hero', 'Filterra – Photo Editor, Effects for Pictures', 'Traffic Rider', '3D Maze Level 100', 'LOL Movie: Change your face + voice!', 'Keep - 移动健身教练 自由运动场', 'King of Thieves', 'Bestie-Beauty Camera 360 & Portrait Selfie Editor', 'Mr Jump', 'Zig Zag Boom', 'Jelly Jump', 'Green the Planet', 'Century City', 'MARVEL Future Fight', 'Storm Radar', 'Quick Reposter - Repost, Regram and Reshare Photos', 'War Dragons', 'MOOMIN -Welcome to Moominvalley-', 'Extreme Car Driving Simulator Free', 'Batman: Arkham Underworld', 'Gun Fu: Stickman 2', 'Roll the Ball™ - slide puzzle', 'Hovercraft - Build Fly Retry', 'Fruit Nibblers', 'Puzzle it to 10', 'Shooty Skies - Endless Arcade Flyer', 'One More Bounce', 'One More Jump', 'Cookie Run: OvenBreak', 'Coco Pony - My Dream Pet', 'PlayGround • Music At Your Fingertips', 'Drive Ahead!', 'Bubble Shoot Pet', 'My Water Balance: Daily Drink Tracker & Reminder', 'OK K.O.! Lakewood Plaza Turbo', '网易考拉海购—新人免费领取1000元优惠券', 'Pancake – The Game', 'GOAT: Buy & Sell Sneakers', 'Vikings: War of Clans', 'Layout from Instagram', 'Adobe Spark Page — Create Stunning Web Pages', 'Robocide', 'Sonic Dash 2: Sonic Boom', 'High Dive', 'Unison League', 'Sky Whale - a Game Shakers App', 'The Walking Dead: Road to Survival - Strategy Game', 'Hello Kitty Lunchbox – Food Maker', 'Nom Cat - Endless feeding frenzy arcade game', 'The Last Vikings', \"The Walking Dead: No Man's Land\", 'The Quest Keeper', 'Free Music Play - Mp3 Streamer & Player', 'Battleplans - #1 Battle Strategy & Defense Game', 'InMind VR (Cardboard)', '100! Block Puzzle - Color jigsaw 10x10 board game', 'Mastering the piano with Lang Lang', 'Flick Field Goal 17', 'Flick Quarterback 17', 'Fix It Girls - House Makeover', 'MakeupPlus - Natural, Professional Makeup Looks', 'Blossom Blast Saga - Fun Flower Match & Grow Game', 'Princess Fairy Rush - Pony Rainbow Adventure', 'Jelly Squares Free', 'New Star Cricket', 'GIPHY. The GIF Search Engine for All the GIFs', 'Head Basketball', 'SongPop 2 - Guess The Song', 'スロットマニア・フィーバー～本場ラスベガススロット', 'Sky Force Reloaded', '∞ Infinity Loop', 'Dragon Heroes: Shooter RPG', 'Little Broken Robots', '全民夺宝-时尚购潮流商品平台', 'Harvest Land', 'Sniper Fury: Fun Mobile Shooter Game', 'Family Organizer - Calendar Planner', 'Pop the Lock', '中国搜索-国家权威搜索', 'Nonstop Knight', 'Kill Shot Bravo', 'DragonVale World', 'Words Crush: Hidden Words!', 'Wrassling', 'ファンタジードライブ【快進撃3DRPG】', 'Block Craft 3D: Building Simulator Game For Free', 'Robbery Bob 2: Double Trouble', 'Battle Copters', 'GreenVPN - Free & fast VPN with unlimited traffic', 'Sky Charms', '鏡の中のプリンセス Love Palace', 'Hockey Stars', 'Discord - Chat for Gamers', 'One More Dash', 'Gun Master 3: Zombie Slayer', 'Face Swap App- Funny Face Changer Photo Effects', 'Hot Shot Slots Games – Vegas Casino Slot Machines', 'letgo: Buy & Sell Second Hand Stuff', '弹弹堂S- 巴萨传奇助阵 弹弹堂手游官方版', 'Mondly: Learn 33 Languages: Spanish English French', 'Polarr Photo Editor - Photo Editing Tools for All', 'Arrow', 'Twin Shooter - Invaders', 'Nono Islands', 'Sling Kong', 'iPlum Business Phone Number for Calling & Texting', 'ZAGA', 'Horizon Chase - World Tour', 'Fallout Shelter', 'Moments - private albums with friends and family', 'INKHUNTER try tattoo designs in augmented reality', 'SOMA Messenger', 'Fit The Fat 2', 'Spinny Circle', 'Rick and Morty: Pocket Mortys', 'Down The Mountain', 'Fast Motorcycle Driver', 'Puppy Love - My Dream Pet', 'League of War: Mercenaries', 'Swaggy Ninja', 'CatHotel - Care for cute cats', 'Word Trek  - WordTrek Brain game & Word puzzles', 'Free Fur All – We Bare Bears Minigame Collection', 'Agar.io', 'EvilBane: Rise of Ravens', \"Pharaoh's Party: Coin Pusher\", 'Matchsticks ~ Free Puzzle Game with Matches', 'Fishing Break', 'Fetty Wap: Nitro Nation Stories', 'Scrubby Dubby Saga', 'Chain: Collaborate On MyVideo Story/Group Video', 'Kick Hero', 'Path of War', 'It Girl Story - Styling, Fashion & Celebrity Life', 'Wonder Tactics', 'Rapala Fishing - Daily Catch', 'Plants vs. Zombies™ Heroes', 'Thumb Drift - Furious One Touch Car Racing', 'Deliveroo: Restaurant Delivery - Order Food Nearby', 'Supermarket Girl - Shopping Fun!', 'Super Stickman Golf 3', 'Ookujira - Giant Whale Rampage', 'PAC-MAN 256 - Endless Arcade Maze', 'BLEACH Brave Souls', 'Double Juggle', 'Animal Jam - Play Wild!', 'VPN Express', 'Brain Dots - Draw and solve! Brain Training Game', 'Olympus Rising', 'Army of Heroes', 'Oops You Died', 'Frozen Frenzy Mania: Challenging Match 3 Games', 'Glowing Snake King - Anaconda Diep War Battle Game', 'The Battle of Polytopia', 'Soda Dungeon', 'Dear Diary - Interactive Story', 'Mix+Smash: Marvel Super Hero Mashers', 'VOEZ', 'Capital One CreditWise - Credit score and report', 'Hungry Babies Mania', 'Bullet Force', 'Futurama: Game of Drones', 'Vault!', 'Colorfy: Coloring Book for Adults', 'Snapimals: Discover & Snap Amazing & Cute Animals!', 'World Chef: Restaurant & Cooking Game', 'Dream League Soccer 2017', 'My Singing Monsters: Dawn of Fire', 'Design Home', 'QB Hero', 'Disney Jigsaw Puzzles!', 'Spanish SOLO: Learn Spanish With Lessons On The Go', 'Tap Quest : Gate Keeper', 'Would You Rather?', 'Sideline - 2nd Phone Number', 'METAL SLUG ATTACK', '全民坦克联盟—坦克帝国官方正版', 'Cat Kitty Kitten Coloring Pages - Free Girl Games', 'Tropical Wars - Pirate Battles', 'Pokémon Shuffle Mobile', 'A Color Story', '360 Degree', 'Bear', 'Viva™ Slots Las Vegas Classic Casino Games', 'Haywire Hospital', 'Disney Emoji Blitz', 'boohoo.com', 'Lost in Harmony', 'Athletics 2: Summer Sports - Free', 'Simply Piano by JoyTunes - Learn & play piano', 'Rayman Classic', 'Smashy Road: Wanted', 'Colorfly : Coloring Book for Adults - Free Games', 'DragonSoul RPG', 'ColorArt: Coloring Book For Adults', 'KOMRAD', 'Pinball Breaker Forever', 'Dawn of Gods', 'Maim Street', 'Zombie Anarchy: Survival Strategy Game', 'Land Sliders', 'Fruit Pop! Puzzles in Paradise - Fruit Pop Sequel', 'Burger – The Game', '俺と鬼嫁の100日戦記', '浪漫庄园(自由创造你的梦想)', '私のヒモ男～イケメン拾いました～恋愛・放置ゲーム', 'Slash Mobs', 'HOOKED - Chat Stories', 'Lonely One', 'Bouncy Kingdom', 'Bits of Sweets', 'Sophia - My Little Sis', 'Magic Rush: Heroes', 'Recolor - Coloring Book', \"Piano Tiles 2™(Don't Tap The White Tile 2)\", 'Hidden Pictures by Highlights Magazine', 'Slots - Huuuge Casino: Slot Machines', 'Strawberry Shortcake Candy Garden', 'Pastry Picnic', 'Anki OVERDRIVE', 'Weed Firm 2: Back To College', 'Outfolded', 'Churchill Solitaire - World War Card Game', 'LONEWOLF', 'Crafty Candy - Match 3 Puzzle Game', 'Reelgood - TV Guide for Streaming', 'Primal Legends', 'Britney Spears: American Dream', 'Frozen Free Fall: Icy Shot', 'Forest Heroes Story', 'Legendary - Game of Heroes', '【真・お絵かきパズル】〇〇投げてみた結果ｗｗ\\u3000完全無料！', 'BuzzTube - Video Player for YouTube', 'Kendall and Kylie', 'Genies & Gems', 'BB-8™ App Enabled Droid Powered by Sphero', 'Endless Sky', 'Warrior Balls', 'Teenage Mutant Ninja Turtles: Legends', '倩女幽魂-周年庆资料片开启新主角剧情', 'Adventure Company', 'Snowboarding The Fourth Phase', '风行视频+ HD - 电影电视剧体育视频播放器', 'Weed Firm: RePlanted', 'Finger Hero: Avoid Obstacles', 'Egg!', 'Tap Tap Dash', 'theSkimm', 'Runtastic Results: Workout & Bodyweight Training', 'Outback', 'CLUE Bingo', 'Home - Design & Decor Shopping', 'Camcorder - Record VHS Home Videos', 'Basket Fall - Basketball Dunking Sim', 'Ringtones for iPhone with Ringtone Maker', 'Rolling Sky', 'Talking Tom Bubble Shooter', 'Yellow - Make new friends', 'POTO - Photo Collage Maker', 'Sky Chasers', 'Amateur Surgeon 4', 'Scanner App - PDF Document Scan', 'my KONAMI Slots - Vegas Casino Slot Machine Games', 'Mahjong Classic Board Game', 'Dulp', '格斗学院-社团争霸圣装崛起，热血高校一触即发', 'Football Clicker', 'Super Phantom Cat - Be a jumping bro.', 'Titan Brawl', 'Splash Cars', 'Candy Party: Coin Carnival Dozer', 'Stage Rush: Imagine Dragons', 'caRRage', 'BattleHand', 'Warhammer 40,000: Freeblade', 'Tap Cats: Idle Warfare', 'The Cooking Game- With Cute iMessage Food Stickers', 'Fits - Block Puzzle King', 'Micro Machines', 'Halfpipe Hero - Retro Arcade Skateboarding', 'Mobike - Dockless Bike Share', 'Surfingers', 'Watch OWN', 'Smash Fu - Endless Arcade Smasher', 'Into the Dim', 'Flip Diving', 'Danger Dodgers', 'Geometry Dash Meltdown', 'Disney Crossy Road', 'Sam’s Club Scan & Go', '洋菓子店ローズ ～ほのぼの再建記～', 'Hungry Shark World', 'Axe in Face 2', 'MuseCam - Edit Photos & Manual Camera', 'Rodeo Stampede - Sky Zoo Safari', 'Earth Defender S - Trillion Battle Game', 'Rooms of Doom', 'Big Bang Racing', 'TopBuzz: Best Viral Videos, GIFs, TV & News', 'Zootopia Crime Files: Hidden Object', 'Tap Sports Baseball 2016', 'Medal Masters : Call of destiny', 'Rival Fire', '12オーディンズ - 王道RPG', 'Le Fooding Restaurant and Stylish Bedrooms Guide', 'Skylanders Battlecast', 'BARRIER X', 'Pelé: Soccer Legend', '大航海世界（风靡日本航海手游《壮绝大航海》正版授权）', 'Flower Girl - Crazy Wedding Day', 'Clash Royale', 'Hey Duggee: The Tinsel Badge', 'Tap the Blocks', 'Color Switch', 'Combo Quest 2', 'Free VPN HexaTech - Unlimited VPN Proxy for iPhone', 'Complete Anatomy', 'Soda World - Your Soda Inc', 'Tap My Katamari - Endless Cosmic Clicker', 'Looty Dungeon', 'World Spin - Create & Play', 'Merged!', 'MadLipz - Make a Voice Over Parody!', 'Hugo Troll Race 2.', 'Loop Taxi', 'Christmas Sweeper 3', 'Sky Hoppers', 'Soccer Clicker', 'Basketball Clicker', 'Hockey Clicker', 'Hair Color Changer - Styles Salon & Recolor Booth', 'Tracky Train', 'Zombie Frontier 3 – Top Zombie Shooting Game', 'Tomb of the Mask', 'MMX Hill Dash — Off-Road Racing', 'Farm Heroes Super Saga: Match, Collect and Grow!', 'Transformers: Earth Wars', 'Spinning Rings', 'Tap Tycoon - Country vs Country', 'Beat Racer', 'Remixlive - Remix loops with pads', 'Face Paint Party Salon - Girls Makeup & Kids Games', 'kurashiru [クラシル] - 料理レシピ動画数No.1', 'Best Fiends Forever', 'Line Defense', 'The Walls', 'Alliance: Air War - Airplane Flight Simulator Game', 'Round Balls', '上司と秘密の2LDK\\u3000Love Happening', 'Flick Golf Extreme', 'Dungeon Monsters RPG', 'BBTAN by 111%', 'Stupid Again', 'NinjAwesome', 'Hot Pot Master', 'Fiesta by Tango - Chat & Meet New People', 'Tower Conquest', 'intoLive - Custom Live Photos wallpaper maker', 'Baby Kim - Care, Play & Dress Up', 'Pretty Ballerina - Ballet Dreams', \"Cristiano Ronaldo: Kick'n'Run\", 'All is Lost', 'Pigment - Coloring Book for Adults', 'Dead Zone: Zombie Crisis', 'Tennis Champs Returns', 'ReRunners: Race for the World', 'Tesla Tubes: Solve our Logic Games & Brain Puzzles', 'Glob Trotters - Endless Arcade Blobber', 'Xmas Swipe - Christmas Match 3 Puzzle', 'Quidd', 'Choppa', 'Epic Orchestra', 'Slide the Shakes', 'MangaZERO - comic reader', 'Swing', \"Reddit Official App: All That's Trending and Viral\", 'Blocky Football', 'Plane Flying Parking Sim a Real Airplane Driving Test Run Simulator Racing Games', 'Multi Level 4 Car Parking Simulator a Real Driving Test Run Racing Games', 'Life Cycle - Track Your Time Automatically', 'MSQRD — Live Filters & Face Swap for Video Selfies', 'Bubble Buggie', \"Cooking Mama Let's Cook Puzzle\", 'Loop Drive 2', 'The Pit', 'POP! Slots – Las Vegas Casino Slot Machine Games', 'Fernanfloo', '快读免费小说-最热网络小说追书神器全本下载阅读器', 'Level With Me', 'Easy Save - Repost your Instagram Photos & Videos', \"Diggy's Adventure\", 'Asana Rebel - Yoga Inspired Fitness', 'Splash', 'Titan Slots™ III', 'Baby Story - Pregnancy Pics Baby Milestones Photo', 'My Cafe: Recipes & Stories - World Restaurant Game', 'Tap Tap Fish - Abyssrium', 'Wheel of Fortune Slots Casino with Vanna White', 'おそ松さんのへそくりウォーズ\\u3000〜ニートの攻防〜', 'Taps to Riches', 'Live Wallpapers for Me - Free Moving Backgrounds', 'Splat Wars', 'Blocky Basketball - Endless Arcade Dunker', 'Blocky Hockey - Arcade Ice Runner', 'Warriors of Glory', 'Mahjöng', 'Zombie Castaways', 'Cosmic Challenge: Best online space racing game', 'Ice Age: Arctic Blast', 'Dark Sword', 'Trump Dump \\u2062', '小猿搜题HD-中小学拍照搜题作业帮手', 'Choices: Stories You Play', 'Bushido Bear', 'Hello, Mr.Rich', 'CubeMator - Craft, Build and Explore the World', 'Lords Mobile', 'Jump Buddies', \"Gravity Island - Shiro's Adventure\", 'Spin It Rich! Casino Slots: Free Slot Machines', 'Endless Frontier - Idle RPG with Tactical PVP', 'Chaos Chronicle', 'Hop Shot', 'Wizard of OZ: Magic Match', 'King Rabbit', 'Smashy Road: Arena', 'Doomsday Clicker', 'Escape With Words', 'Ghostbusters™: Slime City', 'CLUE Bingo: Valentine’s Day', 'Spoon Pet Collector', 'Galaga Wars', 'Hammer Bomb - Creepy Dungeon Mazes!', 'Willy Wonka Slots: Vegas Casino Slot Machines', 'Smashy City', 'Flick Rugby 16', 'Combo Critters', 'Driving School 2016', 'Inner Circle', 'Twisty Wheel', 'A.P.E.X', 'Flutter: Starlight', 'My Sweet Farm', 'WordBrain 2', 'PINKFONG 123 Numbers', 'Nicki Minaj: The Empire', 'Road to be King', 'SongFlip - Free Music Streamer', 'Wooden Block Puzzle - Wood jigsaw fit 1010 matrix', 'Ice Road Trucker Parking Simulator 2 a Real Monster Truck Car Park Racing Game', 'Golf Island', 'FINAL FANTASY BRAVE EXVIUS', 'Dream Defense', 'WordWhizzle', 'I, Viking', 'Mekorama', 'Asterix and Friends', 'Droppy Balls!', 'Wizard Swipe', 'Build Away! - Idle City Game', 'Circle Affinity', 'Stack', 'Galaxy Reavers-Space Strategy game(RTS)', 'Barbie Dreamtopia - Magical Hair', 'Animation Throwdown: The Quest for Cards', 'Live Wallpapers & Themes Free - Moving Backgrounds', 'Risky Road', 'Hovercraft: Takedown - Custom Combat Cars', 'NCIS: Hidden Crimes', 'Logic Traces', 'SkillTwins Football Game', 'Bumper Jump', 'Vector 2', 'GhostCodes - a discovery app for Snapchat', 'Evil Dead: Endless Nightmare', \"Lemon Lumberjack's Letter Mill\", 'KleptoCats', 'Monster Busters: Link Flash', 'Leap Day', 'Letter Soup - Word Game', 'Folioscope', 'Fear the Walking Dead: Dead Run–Tactical Runner', 'Versus Run', 'Hackers - Join the Cyberwar!', 'Oz: Broken Kingdom™', 'Hex Crush!', 'Bernie Sandwiches - Run For The White House', 'YO-KAI WATCH Wibble Wobble', 'Smash Slots', 'Collageable - Photo Collage Maker, Pic Grid Free', 'Snail Bob 2', 'FarmVille: Tropic Escape - Harvest in Paradise', 'Gravity Switch', 'Flappy Bird : original version !', 'Twisty Arrow - Shoot the Circle Wheel', 'Wonder Keyboard: Sound Smart & Funny with AI', 'Puzzle Monster Quest - New MultiPlayer', 'Loop Mania', 'High School Crush - My First Love', 'Sloomy', 'Warp Shift', 'Sausage Legend - Fighting Game', 'Tap Hero', 'Dash Heroes', 'Solitaire Free: card games for adults', 'Disco Dave', \"Blair's Fashion Boutique - School Style\", 'Buddyman Run － keep running!', 'Stickman Cubed', 'Skippy Box', 'Hexavoid', 'Restaurant DASH with Gordon Ramsay', 'Escape Alice House2', 'Super Slime Blitz – Gumball Endless Arcade Climber', 'Talking Tom Gold Run: Fun & Endless Running Game', 'Live.me – Live Video Chat & Make Friends Nearby', 'Zen', 'Tap Tap Trillionaire', 'Steve - The Jumping Dinosaur Widget Arcade Game', 'Wonderball - One Touch Endless Ball Arcade Action', 'Fill - one-line puzzle game', 'Marmiton Twist', 'My Boo Town - Create your own Village of Boos', 'MOBIUS FINAL FANTASY', 'Princess Pet Palace: Royal Pony - Pet Care, Play & Dress Up', 'Back To Square One', 'UA Shop by Under Armour', 'Monster Girls Creator Catch em for Pokémon fans', 'Flying Car Driving Simulator Free: Extreme Muscle Car - Airplane Flight Pilot', 'Dice Mania - Play Free Online Classic Board Game with Friends', 'Coloring Book for Me - Coloring pages for adults', 'Sugar Slide: The Path Home', 'Pony Princess Academy - Dress Up, Style, Feed & Care for Ponies Game', 'Steppy Pants', \"It's a Space Thing\", 'Flappy Hoopers: The Shooting Basketball Players', 'SwapperFace - Face Swap Free, Live Mask Effects', 'Make7! Hexa Puzzle', 'Block! Hexa Puzzle', 'Rio 2016 Olympic Games', 'Go Pug Go', 'Battleborn® Tap', 'Steps! - Hardest Action Game Ever!', 'Tap Tap Builder', 'Beyond 14', \"Tina's Diary: Spring Outing\", 'Diced - A Simple Puzzle Dice Game', 'Clash of Queens: Dragons Rise', 'Fancy Cakes - Endless Tasty Puzzle', 'Juggernaut Champions', '50 50 - The Addictive Slicing Game', 'Raccoon Pizza Rush', 'Mahjong Treasure Quest', 'Jumpy Tree', 'Iron Maiden: Legacy of the Beast', 'Slots Real Las Vegas - Free Casino Slot Machine Games - Bet, Spin and Win Jackpot & Bonus', 'Tap Smiths', 'Mahjong Solitaire Star! Your Favorite Game!', 'Dropple', 'Magic Legion - Age of Heroes', 'He-Man™ Tappers of Grayskull™', 'Trailer Truck Parking with Real City Traffic Car Driving Sim', 'Dots & Co: A New Puzzle Adventure', 'Bud Farm: Grass Roots', 'Worm.is: The Game', 'Snake Slither Run - Hungry Worm Eat Color Dot', 'Las Vegas Valet Limo and Sports Car Parking', 'PAC-MAN Pop', 'Stickninja Smash', 'Fantastic Beasts™: Cases', 'Stick Soccer 2', 'UNCHARTED: Fortune Hunter™', 'Snakeio', '少年西游记－西游卡牌王者之作', 'Miss Hollywood: Lights, Camera, Fashion! - Pet Fun', 'Joan Mad Run', 'Tinker Island: Survival Adventure', 'WordWhizzle Search', 'Splashy Cats: Endless Zigzag Arcade Water Game', 'Warcher Defenders', \"Freddy the Frogcaster's Weather Station\", 'YouTurbo', 'Truth Or Dare — Party Game', 'もやししゃちょー', 'Nancy Drew Codes and Clues Mystery Coding Game', 'Bouncy Tower', \"Chef's Quest\", 'Symmetrica - Minimalistic arcade game', 'Slaymoji - Emoji Keyboard & iMessage Stickers', 'HIT - Heroes of Incredible Tales', 'Mars: Mars', 'Tinycards - Learn with Fun, Free Flashcards', 'Respeck on my Name', 'Really Bad Chess', 'Polyforge', 'Free Music - MP3 Streamer & Playlist Manager Pro', 'Being SalMan: The Official Game', 'Ketchapp Basketball', 'Head Soccer France 2016', 'Geometry Dash World', 'SBK16 - Official Mobile Game', 'Funny Face - Filters Pic Swap Effects Photo Editor', 'Snake.io - Worm.io - Agar Slither Snake Battle', 'TIME LOCKER - Shooter', '3D Dubai Parking Simulator Drive Real Extreme Super Sports Car', 'Hand of God - Top Clicker & Tap Games', 'Mystic Messenger', 'Fancy Cats', 'Anime Power FX', 'Shopping Mall Girl - Dress Up & Style Game', 'Piggy Show', 'Tank War - Geometry Go Shot Color Dot.IO', 'Diamond Story: Jewelry Quest', 'Steps', 'Shopkins: Chef Club', 'Wordalot – Picture Crossword', 'Bowmasters - Top Multiplayer Bowman Archery Game', 'Stop Curry', 'Lollipop: Sweet Taste Match3', 'Burger Jump', 'Fun Run Arena - Online Multiplayer Running Game', 'Chick Go & Climb', 'Auralux: Constellations', 'PolitiCats: Awesome Clicker Game', 'Redungeon', 'NARUTO SHIPPUDEN: Ultimate Ninja Blazing', 'MARVEL Tsum Tsum', 'Tap Titans 2', 'Blocky Racer - Endless Arcade Racing', 'April - Layouts, Photo Collage, and Poster Maker', 'Archery King', 'Multi Level Car Parking 5 a Real Airport Driving Test Simulator', 'Angry Birds Blast', 'Make More!', 'Light On', 'Prisma: Photo Editor, Art Filters Pic Effects', 'Duck Roll', 'WIND runner adventure', 'Javelin Masters 3', 'Fish Fist', 'Suicide Squad: Special Ops', 'Crazy Circle', 'Tank.io war - Free Classic Tank games', 'Arcane Online - Fantasy MMORPG', 'Magic Nightfall', '梦幻西游互通版', 'Is-it Love ? Ryan (Visual Novel)', 'Cube Skip', 'High 5 Vegas - Hit Slots Casino', 'PHAROS Earth', 'Amusement Park Tour', 'Switchy Sides', 'Nukleus', 'All Star Quarterback 17 - Football Lifestyle Sim', 'Attenborough Story of Life', 'Color Bots', 'Cubway', 'Roller Coaster Simulator - Draw and Simulate!', 'Rings.', 'The Counter Of Death', 'Coin Dozer: Haunted', 'Super Atomic', 'Taxi Sim 2016', 'Brick Splits', \"Candy's Vacation - Beach Hotel\", 'Highlights™ Shapes - Preschool Learning Puzzles', 'Content Transf', 'Kerflux', '1-Bit Rogue: A dungeon crawler RPG!', 'Hop Swap', 'Motor World: Bike Factory', 'Piggy Boom', 'Troll Face Quest Video Games', 'Age of Heroes: Conquest', 'The Higher Lower Game', '虫虫大作战-经典休闲蛇蛇', 'Leveled!', 'New Furniture Mods - Pocket Wiki & Game Tools for Minecraft PC Edition', 'Circuroid', 'Baby Boss - Care, Dress Up and Play', 'Legacy of Discord - Furious Wings', 'Pigu', 'Just Rolling', 'Warlords - Turn Based Strategy', 'Ocean Clash: A naval game with honor and loyalty', 'Guides for Pokémon GO - Pokemon GO News and Cheats', 'Wave', 'Buildy Blocks', 'Cake Break', \"Donald's Empire\", 'Cheats For Pokemon Go - Gameplay, PokeCoins Guide, Catch Videos', 'Phoenix II', 'Driving Evolution Parking Sim Real Car Driver Test', 'Wild City Rush - Urban Jungle Adventure', 'OVO Store', '【はらぺこパズル】ごはんに恋をした', 'Soda Coin Party: Free Casino Pusher', 'YouCam Fun - Live Selfie Video Filters', 'Sweet Princess Beauty Salon', 'CHiP - Your New Best Friend', 'Escape from the beach house of everlasting summer.', 'Six!', 'Rolling Snake.io - Worm IO Multiplayer Online Slither War Game - Free Agar Skins Version', 'Wire de Coins 2', 'Dustoff Heli Rescue 2', 'Solitaire ▪', '*Solitaire*', 'Ketchapp Summer Sports', 'Baby Skins and Aphmau Skins and Boy Skins and Girl Skins For Minecraft PE', 'Wire Bounce', 'Higher Higher!', 'Duel Master - Best Duelist', 'Hot Wheels: Race Off', 'Shadow Bug Rush', 'DK Live – Fantasy Sports Play by Play and News', 'Tropical Twist', 'Narcos: Cartel Wars', 'Offline Auto IV Calc for Pokemon GO', 'Idle Armies', 'The Krustashians', 'FaZes - Run & Jump', \"Boo - The World's Cutest Dog Game!\", 'Drifty Chase', 'Masky', 'White Tiles 4: Piano Master (All mini games in 1)', 'Monster Craft GO - Find and Catch pixelmon CarToon', 'Hill Climb Racing 2', 'Bold Moves', 'Star Wars™ Force Band™ by Sphero', 'Bubble Island 2 - Pop Bubble Shooter', 'Super Fashion Show - Girls Makeup, Dressup Games', 'Nekosan', 'Jelly Blast: New Exciting Match 3', 'Midnight Calling: Jeronimo', 'Christmas Stories: The Gift of the Magi', \"Baby Panda's Carnival\", 'Twisty Board', 'Landix.io Online', 'Mine Blitz', 'Happy Oink', 'Word Cookies!', 'Cozmo ®', 'Hop', 'Cola Bottle Flip Challenge', 'Followers Analytics for Instagram - InstaReport', 'Water Bottle Flip Challenge : Endless Diving 2K16', 'Real Cake Maker 3D - Bake, Design & Decorate', 'Brick Shot', 'Miss Peregrine’s Emoji', 'Fairy Princess Fashion Design', 'Flippy Bottle Extreme! - Marker Flip Tricky 2K16', 'High Risers', 'Pineapple Pen', 'DurantEmoji by Kevin Durant', 'Mobile Legends: Bang bang', '■ Square it!', 'I Have A Pen', 'Gems Story', 'Silly Sausage: Doggy Dessert', 'Sweet Tales', 'Water Bottle Flip Challenge: Flippy Bottle Diving', 'Solitaire One', 'Shoutrageous! - The Addictive Game of Lists', 'Super Jabber Jump', 'Epic Battle Simulator', 'Our dark lord-Sasuyu 2-TAP RPG', 'Sago Mini Holiday Trucks and Diggers', 'My First Crush - High School Love', 'PhotoScan - scanner by Google Photos', 'Fitness Girl - Dance and Play at the Gym', 'Keepy Ducky', 'Cubed Rally World', 'Haunted Rooms: Escape VR Game for Google Cardboard', 'Flip', 'Linda Brown: Interactive Story', '25 Days of Christmas: Holiday Advent Calendar 2016', 'Top Tier', 'Fast Food Rampage', 'Ice Princess - Royal Wedding Day', 'Amusement Park Tour 2: Fun Xmas', 'Sweet Tales: Match 3 Christmas', 'Escape Game: Christmas Eve', 'Bottle Flip!', 'VR Video World - Virtual Reality', 'Christmas Swap 3 -Match toy & candy to countdown', 'Truth or Dare ·', 'Santa Kids Hair Salon - Christmas Makeover Games', 'Escape Game: illumination', 'Kubik', 'VR Roller-Coaster', 'VR Roller Coaster World - Virtual Reality']\n"
          ]
        }
      ]
    },
    {
      "cell_type": "markdown",
      "source": [
        "### 🔸 **Q7**: `[STUDENT SUBMISSION QUESTION]`"
      ],
      "metadata": {
        "id": "RxsJXU4zvFBN"
      }
    },
    {
      "cell_type": "code",
      "source": [
        "# STUDENTS: Write some code to answer your second proposed descriptive question!\n",
        "'''\n",
        "What are the expensive app (price over $200) in dollars?\n",
        "'''\n",
        "\n",
        "expensive_app_in_usd = dataset[(dataset['price']>= 200.00) & (dataset['currency']=='USD')]\n",
        "print(expensive_app_in_usd['track_name'].to_list())"
      ],
      "metadata": {
        "id": "5VW4JU_cvFTP",
        "outputId": "96918b73-1081-4f50-962b-b1e007cc56a6",
        "colab": {
          "base_uri": "https://localhost:8080/"
        }
      },
      "execution_count": 86,
      "outputs": [
        {
          "output_type": "stream",
          "name": "stdout",
          "text": [
            "['Proloquo2Go - Symbol-based AAC', 'LAMP Words For Life']\n"
          ]
        }
      ]
    },
    {
      "cell_type": "markdown",
      "source": [
        "---\n",
        "---"
      ],
      "metadata": {
        "id": "zD1VMNq8vipE"
      }
    },
    {
      "cell_type": "markdown",
      "source": [
        "## 💠 **PART FOUR**: Conclusions 💠"
      ],
      "metadata": {
        "id": "gLtpdG2lvkEu"
      }
    },
    {
      "cell_type": "markdown",
      "source": [
        "With seven descriptive questions asked and answered and a data exploration under your belt, your basic skills have been put to the test!\n",
        "\n",
        "Hopefully you feel proud of your ability to combine creative thinking with technical design and explore a dataset previously unknown to you.\n",
        "\n",
        "There'll be a lot more opportunity to do so moving forward!"
      ],
      "metadata": {
        "id": "9DEWH4n4vTLp"
      }
    },
    {
      "cell_type": "markdown",
      "metadata": {
        "id": "IwqCY3KzSS-v"
      },
      "source": [
        "---\n",
        "---\n",
        "---"
      ]
    }
  ]
}